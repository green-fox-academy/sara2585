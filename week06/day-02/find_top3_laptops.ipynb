{
 "cells": [
  {
   "cell_type": "code",
   "execution_count": 56,
   "metadata": {},
   "outputs": [],
   "source": [
    "from bs4 import BeautifulSoup\n",
    "import requests"
   ]
  },
  {
   "cell_type": "code",
   "execution_count": 163,
   "metadata": {},
   "outputs": [],
   "source": [
    "#for Home and Office laptops\n",
    "\n",
    "url1 = 'https://www.alza.co.uk/basic-home-and-office-laptops/18843464.htm'\n",
    "\n",
    "#for Gaming laptops\n",
    "url2 = 'https://www.alza.co.uk/gaming-laptops/18848814.htm'\n",
    "\n",
    "#for professional laptops\n",
    "url3 = 'https://www.alza.co.uk/professional-laptops/18853299.htm'\n"
   ]
  },
  {
   "cell_type": "code",
   "execution_count": 164,
   "metadata": {},
   "outputs": [
    {
     "data": {
      "text/plain": [
       "['Lenovo V330-14IKB Iron Grey', 'Dell Latitude 5590', 'Lenovo ThinkPad T480']"
      ]
     },
     "execution_count": 164,
     "metadata": {},
     "output_type": "execute_result"
    }
   ],
   "source": [
    "#find_top_3_laptops:\n",
    "def find_top3_laptops(url):\n",
    "    page = requests.get(url)\n",
    "    soup = BeautifulSoup(page.content, 'html.parser')\n",
    "    tops = soup.body.find_all('a',class_='name browsinglink')\n",
    "    top_3 = tops[0:3]\n",
    "    top_3_name = []\n",
    "    for item in top_3:\n",
    "        top_3_name.append(item.get_text())\n",
    "\n",
    "    return top_3_name\n"
   ]
  },
  {
   "cell_type": "code",
   "execution_count": 158,
   "metadata": {},
   "outputs": [
    {
     "data": {
      "text/plain": [
       "['£979', '£1,325.90', '£1,939']"
      ]
     },
     "execution_count": 158,
     "metadata": {},
     "output_type": "execute_result"
    }
   ],
   "source": [
    "#find_their_previous_prices:\n",
    "def find_previous_price(url):\n",
    "    page = requests.get(url)\n",
    "    soup = BeautifulSoup(page.content, 'html.parser')\n",
    "    price = soup.body.find_all('div',class_=\"priceInner\")\n",
    "    top3 = price[0:3]\n",
    "    top3_previous_price = []\n",
    "    for item in top3:\n",
    "        if item.find('span', class_=\"np2\") is not None:\n",
    "            top3_previous_price.append(item.find('span', class_=\"np2\").get_text())\n",
    "        else:\n",
    "            top3_previous_price.append(item.find('span', class_=\"c2\").get_text())\n",
    "    \n",
    "    return top3_previous_price\n"
   ]
  },
  {
   "cell_type": "code",
   "execution_count": 161,
   "metadata": {},
   "outputs": [
    {
     "data": {
      "text/plain": [
       "['£889', '£1,220.90', '£1,629']"
      ]
     },
     "execution_count": 161,
     "metadata": {},
     "output_type": "execute_result"
    }
   ],
   "source": [
    "def find_current_price(url):\n",
    "    page = requests.get(url)\n",
    "    soup = BeautifulSoup(page.content, 'html.parser')\n",
    "    price = soup.body.find_all('div',class_=\"priceInner\")\n",
    "    top3 = price[0:3]\n",
    "    top3_current_price = []\n",
    "    for item in top3:\n",
    "        top3_current_price.append(item.find('span',class_=\"c2\").get_text())\n",
    "    return top3_current_price\n",
    "find_current_price(url2)"
   ]
  },
  {
   "cell_type": "code",
   "execution_count": 166,
   "metadata": {},
   "outputs": [
    {
     "name": "stdout",
     "output_type": "stream",
     "text": [
      "the top 3 laptops in home and office is: ['Microsoft Surface Go 128GB 8GB LTE', 'Dell Latitude 5590', 'Dell G7 17 (7790) Gaming Black']\n",
      "the previous prices is: ['£659', '£1,502.90', '£1,939']\n"
     ]
    }
   ],
   "source": [
    "print(f\"the top 3 laptops in home and office is: {find_top3_laptops(url1)}\\nthe previous prices is: {find_previous_price(url1)}\\nthe current prices are: {find_current_price(url1)}\")"
   ]
  },
  {
   "cell_type": "code",
   "execution_count": 167,
   "metadata": {},
   "outputs": [
    {
     "name": "stdout",
     "output_type": "stream",
     "text": [
      "the top 3 laptops in gaming is: ['Lenovo IdeaPad 720s-15IKB Silver Metallic', 'Lenovo Legion Y530-15ICH Black', 'Dell G7 17 (7790) Gaming Black']\n",
      "the previous prices is: ['£979', '£1,325.90', '£1,939']\n",
      "the current prices are: ['£889', '£1,220.90', '£1,629']\n"
     ]
    }
   ],
   "source": [
    "print(f\"the top 3 laptops in gaming is: {find_top3_laptops(url2)}\\nthe previous prices is: {find_previous_price(url2)}\\nthe current prices are: {find_current_price(url2)}\" )"
   ]
  },
  {
   "cell_type": "code",
   "execution_count": null,
   "metadata": {},
   "outputs": [],
   "source": [
    "print(f\"the top 3 laptops in professional is: {find_top3_laptops(url3)}\\nthe previous prices is: {find_previous_price(url3)}\\nthe current prices are: {find_current_price(url3)}\" )"
   ]
  }
 ],
 "metadata": {
  "kernelspec": {
   "display_name": "Python 3",
   "language": "python",
   "name": "python3"
  },
  "language_info": {
   "codemirror_mode": {
    "name": "ipython",
    "version": 3
   },
   "file_extension": ".py",
   "mimetype": "text/x-python",
   "name": "python",
   "nbconvert_exporter": "python",
   "pygments_lexer": "ipython3",
   "version": "3.7.3"
  }
 },
 "nbformat": 4,
 "nbformat_minor": 2
}
