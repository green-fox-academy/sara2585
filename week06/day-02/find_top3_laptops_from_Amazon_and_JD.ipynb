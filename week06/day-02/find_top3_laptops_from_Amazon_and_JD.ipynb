{
 "cells": [
  {
   "cell_type": "code",
   "execution_count": 1,
   "metadata": {},
   "outputs": [],
   "source": [
    "from bs4 import BeautifulSoup\n",
    "import requests"
   ]
  },
  {
   "cell_type": "code",
   "execution_count": 80,
   "metadata": {},
   "outputs": [],
   "source": [
    "#normal laptops from JD\n",
    "url = 'https://www.joybuy.com/category/875061753-laptops.html?sortType=sort_pay_order_num_30_days_desc&showType=list&qpExclude=0&filterTypes=jd_self_ept%2Credisstore'\n",
    "\n",
    "#gaming laptops from JD\n",
    "url1 = 'https://www.joybuy.com/category/875061509-gaming-laptops.html?qpExclude=0&filterTypes=redisstore&sortType=sort_pay_order_num_30_days_desc'\n",
    "\n",
    "#Persion laptops from Amazon\n",
    "url2= 'https://www.amazon.co.uk/b/?node=429886031&ref_=Oct_CateC_340831031_0&pf_rd_p=7f82985b-d737-52c9-9ccb-b4e571543b12&pf_rd_s=merchandised-search-4&pf_rd_t=101&pf_rd_i=340831031&pf_rd_m=A3P5ROKL5A1OLE&pf_rd_r=WSX2WVWM3JGRQB5G55PZ&pf_rd_r=WSX2WVWM3JGRQB5G55PZ&pf_rd_p=7f82985b-d737-52c9-9ccb-b4e571543b12'\n",
    "\n"
   ]
  },
  {
   "cell_type": "code",
   "execution_count": 25,
   "metadata": {},
   "outputs": [
    {
     "data": {
      "text/plain": [
       "['MSI MF63 narrow border GTX1050 4G 15.6-inch thin and light game book (i7-8750H 8G 128G SSD+1T red backlight IPS) black',\n",
       " 'Lenovo Saver Y7000 15.6-inch gaming laptop (i7-8750H 8G 1T+128G GTX1050Ti 72%NTSC Black',\n",
       " 'Millet (MI) 15.6-inch gaming laptop (Intel eight generation Core I5-8300H 8G 1T+256G GTX1050TI 72% high color gamut) deep space gray']"
      ]
     },
     "execution_count": 25,
     "metadata": {},
     "output_type": "execute_result"
    }
   ],
   "source": [
    "#find top3 laptops from JD website.\n",
    "def find_top3_laptops_from_JD(url):\n",
    "    page = requests.get(url)\n",
    "    soup = BeautifulSoup(page.content, 'html.parser')\n",
    "    tops = soup.find_all('div',class_=\"p-title\")\n",
    "    top3 = tops[0:3]\n",
    "    top3_name = []\n",
    "    for item in top3:\n",
    "        top3_name.append(item.find('a')['title'])\n",
    "    return top3_name\n"
   ]
  },
  {
   "cell_type": "code",
   "execution_count": 17,
   "metadata": {},
   "outputs": [],
   "source": [
    "#You are no able to catch the price from JD\n"
   ]
  },
  {
   "cell_type": "code",
   "execution_count": 74,
   "metadata": {},
   "outputs": [
    {
     "data": {
      "text/plain": [
       "['            Apple MacBook (12-inch, 1.2 GHz dual-core Intel Core m3, 8 GB RAM, 256 GB SSD) - Space Grey        ',\n",
       " '            Lenovo ThinkPad T430 i5-3320M 2.6GHz 8GB RAM, 256GB SSD DVDRW 14.1 WXGA++ 1600x900 Webcam Windows 10 Pro 64 bit WiFi Grade A  (Renewed)        ',\n",
       " '            ASUS 2019 Cloudbook E203MA-FD017TS 11.6 Inch HD Laptop (Intel Celeron N4000 Processor, 64 GB eMMC, 4 GB Memory, Pre-Installed with Microsoft Office 365, Windows 10 S)        ']"
      ]
     },
     "execution_count": 74,
     "metadata": {},
     "output_type": "execute_result"
    }
   ],
   "source": [
    "# find top3 latops from Amazon\n",
    "def find_top3_laptops(url):\n",
    "    page = requests.get(url)\n",
    "    soup = BeautifulSoup(page.content, 'html.parser')\n",
    "    tops = soup.find_all('div', class_=\"a-section octopus-pc-asin-title\")\n",
    "    top3 = tops[0:3]\n",
    "    top3_name = []\n",
    "    for item in top3:\n",
    "        top3_name.append(item.find('span',class_='a-size-base a-color-base').get_text())\n",
    "    return top3_name\n",
    "find_top3_laptops(url2)\n",
    "\n",
    "    "
   ]
  },
  {
   "cell_type": "code",
   "execution_count": 85,
   "metadata": {},
   "outputs": [
    {
     "data": {
      "text/plain": [
       "['                    £1,249.00                ',\n",
       " '£257.90',\n",
       " '                    £229.99                ']"
      ]
     },
     "execution_count": 85,
     "metadata": {},
     "output_type": "execute_result"
    }
   ],
   "source": [
    "#get previous prices from Amazon\n",
    "def find_previous_price(url):\n",
    "    page = requests.get(url)\n",
    "    soup = BeautifulSoup(page.content, 'html.parser')\n",
    "    tops = soup.find_all('div', class_=\"a-section octopus-pc-asin-info-section\")\n",
    "    top3 = tops[0:3]\n",
    "    previous_prices = []\n",
    "    for item in top3:\n",
    "        if item.find('span', class_='a-size-mini a-color-tertiary a-text-strike') is not None:\n",
    "            previous_prices.append(item.find('span', class_= 'a-size-mini a-color-tertiary a-text-strike').get_text())\n",
    "        else:\n",
    "            previous_prices.append( item.find('span', class_='a-price-symbol').get_text()+item.find('span', class_='a-price-whole').get_text()+item.find('span', class_='a-price-fraction').get_text())\n",
    "    return previous_prices\n",
    "find_previous_price(url2)\n",
    "               \n"
   ]
  },
  {
   "cell_type": "code",
   "execution_count": 86,
   "metadata": {},
   "outputs": [
    {
     "data": {
      "text/plain": [
       "['£799.00', '£257.90', '£199.00']"
      ]
     },
     "execution_count": 86,
     "metadata": {},
     "output_type": "execute_result"
    }
   ],
   "source": [
    "#get current prices from Amazon:\n",
    "def find_current_price(url):\n",
    "    page = requests.get(url)\n",
    "    soup = BeautifulSoup(page.content, 'html.parser')\n",
    "    tops = soup.find_all('div', class_=\"a-section octopus-pc-asin-info-section\")\n",
    "    top3 = tops[0:3]\n",
    "    current_prices= []\n",
    "    for item in top3:\n",
    "        current_prices.append(item.find('span', class_='a-price-symbol').get_text()+item.find('span', class_='a-price-whole').get_text()+item.find('span', class_='a-price-fraction').get_text())\n",
    "    return current_prices\n",
    "find_current_price(url2)\n",
    "\n",
    "        \n",
    "\n",
    "    "
   ]
  },
  {
   "cell_type": "code",
   "execution_count": null,
   "metadata": {},
   "outputs": [],
   "source": []
  }
 ],
 "metadata": {
  "kernelspec": {
   "display_name": "Python 3",
   "language": "python",
   "name": "python3"
  },
  "language_info": {
   "codemirror_mode": {
    "name": "ipython",
    "version": 3
   },
   "file_extension": ".py",
   "mimetype": "text/x-python",
   "name": "python",
   "nbconvert_exporter": "python",
   "pygments_lexer": "ipython3",
   "version": "3.7.3"
  }
 },
 "nbformat": 4,
 "nbformat_minor": 2
}
