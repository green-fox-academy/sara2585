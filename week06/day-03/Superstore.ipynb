{
 "cells": [
  {
   "cell_type": "code",
   "execution_count": 1,
   "metadata": {},
   "outputs": [],
   "source": [
    "import pandas as pd\n",
    "import numpy as np\n",
    "import matplotlib\n",
    "from matplotlib import pyplot as plt"
   ]
  },
  {
   "cell_type": "code",
   "execution_count": 2,
   "metadata": {},
   "outputs": [],
   "source": [
    "%matplotlib inline"
   ]
  },
  {
   "cell_type": "code",
   "execution_count": 4,
   "metadata": {},
   "outputs": [],
   "source": [
    "Sales = pd.read_excel('SuperstoreSales.xls', index_col=0)\n"
   ]
  },
  {
   "cell_type": "code",
   "execution_count": 5,
   "metadata": {},
   "outputs": [
    {
     "data": {
      "text/html": [
       "<div>\n",
       "<style scoped>\n",
       "    .dataframe tbody tr th:only-of-type {\n",
       "        vertical-align: middle;\n",
       "    }\n",
       "\n",
       "    .dataframe tbody tr th {\n",
       "        vertical-align: top;\n",
       "    }\n",
       "\n",
       "    .dataframe thead th {\n",
       "        text-align: right;\n",
       "    }\n",
       "</style>\n",
       "<table border=\"1\" class=\"dataframe\">\n",
       "  <thead>\n",
       "    <tr style=\"text-align: right;\">\n",
       "      <th></th>\n",
       "      <th>Order ID</th>\n",
       "      <th>Order Date</th>\n",
       "      <th>Order Priority</th>\n",
       "      <th>Order Quantity</th>\n",
       "      <th>Sales</th>\n",
       "      <th>Discount</th>\n",
       "      <th>Ship Mode</th>\n",
       "      <th>Profit</th>\n",
       "      <th>Unit Price</th>\n",
       "      <th>Shipping Cost</th>\n",
       "      <th>...</th>\n",
       "      <th>Zip Code</th>\n",
       "      <th>State</th>\n",
       "      <th>Region</th>\n",
       "      <th>Customer Segment</th>\n",
       "      <th>Product Category</th>\n",
       "      <th>Product Sub-Category</th>\n",
       "      <th>Product Name</th>\n",
       "      <th>Product Container</th>\n",
       "      <th>Product Base Margin</th>\n",
       "      <th>Ship Date</th>\n",
       "    </tr>\n",
       "    <tr>\n",
       "      <th>Row ID</th>\n",
       "      <th></th>\n",
       "      <th></th>\n",
       "      <th></th>\n",
       "      <th></th>\n",
       "      <th></th>\n",
       "      <th></th>\n",
       "      <th></th>\n",
       "      <th></th>\n",
       "      <th></th>\n",
       "      <th></th>\n",
       "      <th></th>\n",
       "      <th></th>\n",
       "      <th></th>\n",
       "      <th></th>\n",
       "      <th></th>\n",
       "      <th></th>\n",
       "      <th></th>\n",
       "      <th></th>\n",
       "      <th></th>\n",
       "      <th></th>\n",
       "      <th></th>\n",
       "    </tr>\n",
       "  </thead>\n",
       "  <tbody>\n",
       "    <tr>\n",
       "      <th>1</th>\n",
       "      <td>3</td>\n",
       "      <td>2010-10-13</td>\n",
       "      <td>Low</td>\n",
       "      <td>6</td>\n",
       "      <td>261.5400</td>\n",
       "      <td>0.04</td>\n",
       "      <td>Regular Air</td>\n",
       "      <td>-213.250</td>\n",
       "      <td>38.94</td>\n",
       "      <td>35.00</td>\n",
       "      <td>...</td>\n",
       "      <td>60035</td>\n",
       "      <td>Illinois</td>\n",
       "      <td>Central</td>\n",
       "      <td>Small Business</td>\n",
       "      <td>Office Supplies</td>\n",
       "      <td>Storage &amp; Organization</td>\n",
       "      <td>Eldon Base for stackable storage shelf, platinum</td>\n",
       "      <td>Large Box</td>\n",
       "      <td>0.80</td>\n",
       "      <td>2010-10-20</td>\n",
       "    </tr>\n",
       "    <tr>\n",
       "      <th>2</th>\n",
       "      <td>6</td>\n",
       "      <td>2012-02-20</td>\n",
       "      <td>Not Specified</td>\n",
       "      <td>2</td>\n",
       "      <td>6.9300</td>\n",
       "      <td>0.01</td>\n",
       "      <td>Regular Air</td>\n",
       "      <td>-4.640</td>\n",
       "      <td>2.08</td>\n",
       "      <td>2.56</td>\n",
       "      <td>...</td>\n",
       "      <td>98026</td>\n",
       "      <td>Washington</td>\n",
       "      <td>West</td>\n",
       "      <td>Corporate</td>\n",
       "      <td>Office Supplies</td>\n",
       "      <td>Scissors, Rulers and Trimmers</td>\n",
       "      <td>Kleencut® Forged Office Shears by Acme United ...</td>\n",
       "      <td>Small Pack</td>\n",
       "      <td>0.55</td>\n",
       "      <td>2012-02-21</td>\n",
       "    </tr>\n",
       "    <tr>\n",
       "      <th>3</th>\n",
       "      <td>32</td>\n",
       "      <td>2011-07-15</td>\n",
       "      <td>High</td>\n",
       "      <td>26</td>\n",
       "      <td>2808.0800</td>\n",
       "      <td>0.07</td>\n",
       "      <td>Regular Air</td>\n",
       "      <td>1054.820</td>\n",
       "      <td>107.53</td>\n",
       "      <td>5.81</td>\n",
       "      <td>...</td>\n",
       "      <td>98387</td>\n",
       "      <td>Washington</td>\n",
       "      <td>West</td>\n",
       "      <td>Corporate</td>\n",
       "      <td>Furniture</td>\n",
       "      <td>Office Furnishings</td>\n",
       "      <td>Tenex Contemporary Contur Chairmats for Low an...</td>\n",
       "      <td>Medium Box</td>\n",
       "      <td>0.65</td>\n",
       "      <td>2011-07-17</td>\n",
       "    </tr>\n",
       "    <tr>\n",
       "      <th>4</th>\n",
       "      <td>32</td>\n",
       "      <td>2011-07-15</td>\n",
       "      <td>High</td>\n",
       "      <td>24</td>\n",
       "      <td>1761.4000</td>\n",
       "      <td>0.09</td>\n",
       "      <td>Delivery Truck</td>\n",
       "      <td>-1748.560</td>\n",
       "      <td>70.89</td>\n",
       "      <td>89.30</td>\n",
       "      <td>...</td>\n",
       "      <td>98387</td>\n",
       "      <td>Washington</td>\n",
       "      <td>West</td>\n",
       "      <td>Corporate</td>\n",
       "      <td>Furniture</td>\n",
       "      <td>Tables</td>\n",
       "      <td>KI Conference Tables</td>\n",
       "      <td>Jumbo Box</td>\n",
       "      <td>0.72</td>\n",
       "      <td>2011-07-16</td>\n",
       "    </tr>\n",
       "    <tr>\n",
       "      <th>5</th>\n",
       "      <td>32</td>\n",
       "      <td>2011-07-15</td>\n",
       "      <td>High</td>\n",
       "      <td>23</td>\n",
       "      <td>160.2335</td>\n",
       "      <td>0.04</td>\n",
       "      <td>Regular Air</td>\n",
       "      <td>-85.129</td>\n",
       "      <td>7.99</td>\n",
       "      <td>5.03</td>\n",
       "      <td>...</td>\n",
       "      <td>98387</td>\n",
       "      <td>Washington</td>\n",
       "      <td>West</td>\n",
       "      <td>Corporate</td>\n",
       "      <td>Technology</td>\n",
       "      <td>Telephones and Communication</td>\n",
       "      <td>Bell Sonecor JB700 Caller ID</td>\n",
       "      <td>Medium Box</td>\n",
       "      <td>0.60</td>\n",
       "      <td>2011-07-17</td>\n",
       "    </tr>\n",
       "  </tbody>\n",
       "</table>\n",
       "<p>5 rows × 22 columns</p>\n",
       "</div>"
      ],
      "text/plain": [
       "        Order ID Order Date Order Priority  Order Quantity      Sales  \\\n",
       "Row ID                                                                  \n",
       "1              3 2010-10-13            Low               6   261.5400   \n",
       "2              6 2012-02-20  Not Specified               2     6.9300   \n",
       "3             32 2011-07-15           High              26  2808.0800   \n",
       "4             32 2011-07-15           High              24  1761.4000   \n",
       "5             32 2011-07-15           High              23   160.2335   \n",
       "\n",
       "        Discount       Ship Mode    Profit  Unit Price  Shipping Cost  ...  \\\n",
       "Row ID                                                                 ...   \n",
       "1           0.04     Regular Air  -213.250       38.94          35.00  ...   \n",
       "2           0.01     Regular Air    -4.640        2.08           2.56  ...   \n",
       "3           0.07     Regular Air  1054.820      107.53           5.81  ...   \n",
       "4           0.09  Delivery Truck -1748.560       70.89          89.30  ...   \n",
       "5           0.04     Regular Air   -85.129        7.99           5.03  ...   \n",
       "\n",
       "       Zip Code       State   Region Customer Segment Product Category  \\\n",
       "Row ID                                                                   \n",
       "1         60035    Illinois  Central   Small Business  Office Supplies   \n",
       "2         98026  Washington     West        Corporate  Office Supplies   \n",
       "3         98387  Washington     West        Corporate        Furniture   \n",
       "4         98387  Washington     West        Corporate        Furniture   \n",
       "5         98387  Washington     West        Corporate       Technology   \n",
       "\n",
       "                 Product Sub-Category  \\\n",
       "Row ID                                  \n",
       "1              Storage & Organization   \n",
       "2       Scissors, Rulers and Trimmers   \n",
       "3                  Office Furnishings   \n",
       "4                              Tables   \n",
       "5        Telephones and Communication   \n",
       "\n",
       "                                             Product Name Product Container  \\\n",
       "Row ID                                                                        \n",
       "1        Eldon Base for stackable storage shelf, platinum         Large Box   \n",
       "2       Kleencut® Forged Office Shears by Acme United ...        Small Pack   \n",
       "3       Tenex Contemporary Contur Chairmats for Low an...        Medium Box   \n",
       "4                                    KI Conference Tables         Jumbo Box   \n",
       "5                            Bell Sonecor JB700 Caller ID        Medium Box   \n",
       "\n",
       "       Product Base Margin  Ship Date  \n",
       "Row ID                                 \n",
       "1                     0.80 2010-10-20  \n",
       "2                     0.55 2012-02-21  \n",
       "3                     0.65 2011-07-17  \n",
       "4                     0.72 2011-07-16  \n",
       "5                     0.60 2011-07-17  \n",
       "\n",
       "[5 rows x 22 columns]"
      ]
     },
     "execution_count": 5,
     "metadata": {},
     "output_type": "execute_result"
    }
   ],
   "source": [
    "Sales.head()"
   ]
  },
  {
   "cell_type": "code",
   "execution_count": 41,
   "metadata": {},
   "outputs": [],
   "source": [
    "#Map the amount of high-priority shipments within 2010 on a timeline.\n",
    "Sales['Ship Date'] = pd.to_datetime(Sales['Ship Date'])"
   ]
  },
  {
   "cell_type": "code",
   "execution_count": 42,
   "metadata": {},
   "outputs": [],
   "source": [
    "new_sales = Sales[(Sales['Order Priority'] == 'High')&(Sales['Ship Date'] >= '2010-01-01') & (Sales['Ship Date'] <= '2010-12-31')]"
   ]
  },
  {
   "cell_type": "code",
   "execution_count": 74,
   "metadata": {},
   "outputs": [],
   "source": [
    "shipment= new_sales['Order Priority'].groupby(new_sales['Ship Date']).count()"
   ]
  },
  {
   "cell_type": "code",
   "execution_count": 75,
   "metadata": {},
   "outputs": [],
   "source": [
    "timeline = new_sales['Ship Date'].sort_values(ascending = True).unique()"
   ]
  },
  {
   "cell_type": "code",
   "execution_count": 76,
   "metadata": {},
   "outputs": [
    {
     "data": {
      "text/plain": [
       "[<matplotlib.lines.Line2D at 0x1f8b5769240>]"
      ]
     },
     "execution_count": 76,
     "metadata": {},
     "output_type": "execute_result"
    },
    {
     "data": {
      "image/png": "[encoded data removed]",
      "text/plain": [
       "<Figure size 432x288 with 1 Axes>"
      ]
     },
     "metadata": {
      "needs_background": "light"
     },
     "output_type": "display_data"
    }
   ],
   "source": [
    "plt.plot(timeline,shipment)"
   ]
  },
  {
   "cell_type": "code",
   "execution_count": 77,
   "metadata": {},
   "outputs": [],
   "source": [
    "#Graph out the minimum and maximum shipping costs per container type."
   ]
  },
  {
   "cell_type": "code",
   "execution_count": 82,
   "metadata": {},
   "outputs": [],
   "source": [
    "cost_minmum = Sales['Shipping Cost'].groupby(Sales['Product Container']).min()"
   ]
  },
  {
   "cell_type": "code",
   "execution_count": 83,
   "metadata": {},
   "outputs": [],
   "source": [
    "cost_maxmum = Sales['Shipping Cost'].groupby(Sales['Product Container']).max()"
   ]
  },
  {
   "cell_type": "code",
   "execution_count": 79,
   "metadata": {},
   "outputs": [],
   "source": [
    "containers = Sales['Product Container'].unique()"
   ]
  },
  {
   "cell_type": "code",
   "execution_count": 134,
   "metadata": {},
   "outputs": [
    {
     "data": {
      "text/plain": [
       "<matplotlib.legend.Legend at 0x1f8b8887e48>"
      ]
     },
     "execution_count": 134,
     "metadata": {},
     "output_type": "execute_result"
    },
    {
     "data": {
      "image/png": "[encoded data removed]",
      "text/plain": [
       "<Figure size 720x360 with 1 Axes>"
      ]
     },
     "metadata": {
      "needs_background": "light"
     },
     "output_type": "display_data"
    }
   ],
   "source": [
    "plt.subplots(figsize= (10, 5))\n",
    "bar_width=0.3\n",
    "plt.bar(x=range(len(containers)), height = cost_maxmum, label=\"maxmum\", width=bar_width)\n",
    "plt.bar(x=np.arange(len(containers))+bar_width,height = cost_minmum, label = \"minmum\", width=bar_width)\n",
    "for x, y in enumerate(cost_maxmum):\n",
    "    plt.text(x, y, '%s' % y, ha='center', va='top')\n",
    "for x, y in enumerate(cost_minmum):\n",
    "    plt.text(x+bar_width, y, '%s' % y, ha='center', va='bottom')\n",
    "plt.title(\"The minimum and maximum shipping costs per container type\")\n",
    "plt.ylabel(\"cost\")\n",
    "plt.xticks(np.arange(len(containers))+bar_width/2, containers)\n",
    "plt.xlabel(\"container\")\n",
    "plt.legend()"
   ]
  },
  {
   "cell_type": "code",
   "execution_count": 105,
   "metadata": {},
   "outputs": [
    {
     "data": {
      "text/html": [
       "<div>\n",
       "<style scoped>\n",
       "    .dataframe tbody tr th:only-of-type {\n",
       "        vertical-align: middle;\n",
       "    }\n",
       "\n",
       "    .dataframe tbody tr th {\n",
       "        vertical-align: top;\n",
       "    }\n",
       "\n",
       "    .dataframe thead th {\n",
       "        text-align: right;\n",
       "    }\n",
       "</style>\n",
       "<table border=\"1\" class=\"dataframe\">\n",
       "  <thead>\n",
       "    <tr style=\"text-align: right;\">\n",
       "      <th></th>\n",
       "      <th>Order ID</th>\n",
       "      <th>Order Date</th>\n",
       "      <th>Order Priority</th>\n",
       "      <th>Order Quantity</th>\n",
       "      <th>Sales</th>\n",
       "      <th>Discount</th>\n",
       "      <th>Ship Mode</th>\n",
       "      <th>Profit</th>\n",
       "      <th>Unit Price</th>\n",
       "      <th>Shipping Cost</th>\n",
       "      <th>...</th>\n",
       "      <th>Zip Code</th>\n",
       "      <th>State</th>\n",
       "      <th>Region</th>\n",
       "      <th>Customer Segment</th>\n",
       "      <th>Product Category</th>\n",
       "      <th>Product Sub-Category</th>\n",
       "      <th>Product Name</th>\n",
       "      <th>Product Container</th>\n",
       "      <th>Product Base Margin</th>\n",
       "      <th>Ship Date</th>\n",
       "    </tr>\n",
       "    <tr>\n",
       "      <th>Row ID</th>\n",
       "      <th></th>\n",
       "      <th></th>\n",
       "      <th></th>\n",
       "      <th></th>\n",
       "      <th></th>\n",
       "      <th></th>\n",
       "      <th></th>\n",
       "      <th></th>\n",
       "      <th></th>\n",
       "      <th></th>\n",
       "      <th></th>\n",
       "      <th></th>\n",
       "      <th></th>\n",
       "      <th></th>\n",
       "      <th></th>\n",
       "      <th></th>\n",
       "      <th></th>\n",
       "      <th></th>\n",
       "      <th></th>\n",
       "      <th></th>\n",
       "      <th></th>\n",
       "    </tr>\n",
       "  </thead>\n",
       "  <tbody>\n",
       "    <tr>\n",
       "      <th>1</th>\n",
       "      <td>3</td>\n",
       "      <td>2010-10-13</td>\n",
       "      <td>Low</td>\n",
       "      <td>6</td>\n",
       "      <td>261.5400</td>\n",
       "      <td>0.04</td>\n",
       "      <td>Regular Air</td>\n",
       "      <td>-213.250</td>\n",
       "      <td>38.94</td>\n",
       "      <td>35.00</td>\n",
       "      <td>...</td>\n",
       "      <td>60035</td>\n",
       "      <td>Illinois</td>\n",
       "      <td>Central</td>\n",
       "      <td>Small Business</td>\n",
       "      <td>Office Supplies</td>\n",
       "      <td>Storage &amp; Organization</td>\n",
       "      <td>Eldon Base for stackable storage shelf, platinum</td>\n",
       "      <td>Large Box</td>\n",
       "      <td>0.80</td>\n",
       "      <td>2010-10-20</td>\n",
       "    </tr>\n",
       "    <tr>\n",
       "      <th>2</th>\n",
       "      <td>6</td>\n",
       "      <td>2012-02-20</td>\n",
       "      <td>Not Specified</td>\n",
       "      <td>2</td>\n",
       "      <td>6.9300</td>\n",
       "      <td>0.01</td>\n",
       "      <td>Regular Air</td>\n",
       "      <td>-4.640</td>\n",
       "      <td>2.08</td>\n",
       "      <td>2.56</td>\n",
       "      <td>...</td>\n",
       "      <td>98026</td>\n",
       "      <td>Washington</td>\n",
       "      <td>West</td>\n",
       "      <td>Corporate</td>\n",
       "      <td>Office Supplies</td>\n",
       "      <td>Scissors, Rulers and Trimmers</td>\n",
       "      <td>Kleencut® Forged Office Shears by Acme United ...</td>\n",
       "      <td>Small Pack</td>\n",
       "      <td>0.55</td>\n",
       "      <td>2012-02-21</td>\n",
       "    </tr>\n",
       "    <tr>\n",
       "      <th>3</th>\n",
       "      <td>32</td>\n",
       "      <td>2011-07-15</td>\n",
       "      <td>High</td>\n",
       "      <td>26</td>\n",
       "      <td>2808.0800</td>\n",
       "      <td>0.07</td>\n",
       "      <td>Regular Air</td>\n",
       "      <td>1054.820</td>\n",
       "      <td>107.53</td>\n",
       "      <td>5.81</td>\n",
       "      <td>...</td>\n",
       "      <td>98387</td>\n",
       "      <td>Washington</td>\n",
       "      <td>West</td>\n",
       "      <td>Corporate</td>\n",
       "      <td>Furniture</td>\n",
       "      <td>Office Furnishings</td>\n",
       "      <td>Tenex Contemporary Contur Chairmats for Low an...</td>\n",
       "      <td>Medium Box</td>\n",
       "      <td>0.65</td>\n",
       "      <td>2011-07-17</td>\n",
       "    </tr>\n",
       "    <tr>\n",
       "      <th>4</th>\n",
       "      <td>32</td>\n",
       "      <td>2011-07-15</td>\n",
       "      <td>High</td>\n",
       "      <td>24</td>\n",
       "      <td>1761.4000</td>\n",
       "      <td>0.09</td>\n",
       "      <td>Delivery Truck</td>\n",
       "      <td>-1748.560</td>\n",
       "      <td>70.89</td>\n",
       "      <td>89.30</td>\n",
       "      <td>...</td>\n",
       "      <td>98387</td>\n",
       "      <td>Washington</td>\n",
       "      <td>West</td>\n",
       "      <td>Corporate</td>\n",
       "      <td>Furniture</td>\n",
       "      <td>Tables</td>\n",
       "      <td>KI Conference Tables</td>\n",
       "      <td>Jumbo Box</td>\n",
       "      <td>0.72</td>\n",
       "      <td>2011-07-16</td>\n",
       "    </tr>\n",
       "    <tr>\n",
       "      <th>5</th>\n",
       "      <td>32</td>\n",
       "      <td>2011-07-15</td>\n",
       "      <td>High</td>\n",
       "      <td>23</td>\n",
       "      <td>160.2335</td>\n",
       "      <td>0.04</td>\n",
       "      <td>Regular Air</td>\n",
       "      <td>-85.129</td>\n",
       "      <td>7.99</td>\n",
       "      <td>5.03</td>\n",
       "      <td>...</td>\n",
       "      <td>98387</td>\n",
       "      <td>Washington</td>\n",
       "      <td>West</td>\n",
       "      <td>Corporate</td>\n",
       "      <td>Technology</td>\n",
       "      <td>Telephones and Communication</td>\n",
       "      <td>Bell Sonecor JB700 Caller ID</td>\n",
       "      <td>Medium Box</td>\n",
       "      <td>0.60</td>\n",
       "      <td>2011-07-17</td>\n",
       "    </tr>\n",
       "  </tbody>\n",
       "</table>\n",
       "<p>5 rows × 22 columns</p>\n",
       "</div>"
      ],
      "text/plain": [
       "        Order ID Order Date Order Priority  Order Quantity      Sales  \\\n",
       "Row ID                                                                  \n",
       "1              3 2010-10-13            Low               6   261.5400   \n",
       "2              6 2012-02-20  Not Specified               2     6.9300   \n",
       "3             32 2011-07-15           High              26  2808.0800   \n",
       "4             32 2011-07-15           High              24  1761.4000   \n",
       "5             32 2011-07-15           High              23   160.2335   \n",
       "\n",
       "        Discount       Ship Mode    Profit  Unit Price  Shipping Cost  ...  \\\n",
       "Row ID                                                                 ...   \n",
       "1           0.04     Regular Air  -213.250       38.94          35.00  ...   \n",
       "2           0.01     Regular Air    -4.640        2.08           2.56  ...   \n",
       "3           0.07     Regular Air  1054.820      107.53           5.81  ...   \n",
       "4           0.09  Delivery Truck -1748.560       70.89          89.30  ...   \n",
       "5           0.04     Regular Air   -85.129        7.99           5.03  ...   \n",
       "\n",
       "       Zip Code       State   Region Customer Segment Product Category  \\\n",
       "Row ID                                                                   \n",
       "1         60035    Illinois  Central   Small Business  Office Supplies   \n",
       "2         98026  Washington     West        Corporate  Office Supplies   \n",
       "3         98387  Washington     West        Corporate        Furniture   \n",
       "4         98387  Washington     West        Corporate        Furniture   \n",
       "5         98387  Washington     West        Corporate       Technology   \n",
       "\n",
       "                 Product Sub-Category  \\\n",
       "Row ID                                  \n",
       "1              Storage & Organization   \n",
       "2       Scissors, Rulers and Trimmers   \n",
       "3                  Office Furnishings   \n",
       "4                              Tables   \n",
       "5        Telephones and Communication   \n",
       "\n",
       "                                             Product Name Product Container  \\\n",
       "Row ID                                                                        \n",
       "1        Eldon Base for stackable storage shelf, platinum         Large Box   \n",
       "2       Kleencut® Forged Office Shears by Acme United ...        Small Pack   \n",
       "3       Tenex Contemporary Contur Chairmats for Low an...        Medium Box   \n",
       "4                                    KI Conference Tables         Jumbo Box   \n",
       "5                            Bell Sonecor JB700 Caller ID        Medium Box   \n",
       "\n",
       "       Product Base Margin  Ship Date  \n",
       "Row ID                                 \n",
       "1                     0.80 2010-10-20  \n",
       "2                     0.55 2012-02-21  \n",
       "3                     0.65 2011-07-17  \n",
       "4                     0.72 2011-07-16  \n",
       "5                     0.60 2011-07-17  \n",
       "\n",
       "[5 rows x 22 columns]"
      ]
     },
     "execution_count": 105,
     "metadata": {},
     "output_type": "execute_result"
    }
   ],
   "source": [
    "Sales.head()"
   ]
  },
  {
   "cell_type": "code",
   "execution_count": 113,
   "metadata": {},
   "outputs": [
    {
     "data": {
      "text/html": [
       "<div>\n",
       "<style scoped>\n",
       "    .dataframe tbody tr th:only-of-type {\n",
       "        vertical-align: middle;\n",
       "    }\n",
       "\n",
       "    .dataframe tbody tr th {\n",
       "        vertical-align: top;\n",
       "    }\n",
       "\n",
       "    .dataframe thead th {\n",
       "        text-align: right;\n",
       "    }\n",
       "</style>\n",
       "<table border=\"1\" class=\"dataframe\">\n",
       "  <thead>\n",
       "    <tr style=\"text-align: right;\">\n",
       "      <th></th>\n",
       "      <th></th>\n",
       "      <th>Profit</th>\n",
       "    </tr>\n",
       "    <tr>\n",
       "      <th>Region</th>\n",
       "      <th>Product Category</th>\n",
       "      <th></th>\n",
       "    </tr>\n",
       "  </thead>\n",
       "  <tbody>\n",
       "    <tr>\n",
       "      <th rowspan=\"3\" valign=\"top\">Central</th>\n",
       "      <th>Furniture</th>\n",
       "      <td>32442.474940</td>\n",
       "    </tr>\n",
       "    <tr>\n",
       "      <th>Office Supplies</th>\n",
       "      <td>162819.102000</td>\n",
       "    </tr>\n",
       "    <tr>\n",
       "      <th>Technology</th>\n",
       "      <td>286629.666400</td>\n",
       "    </tr>\n",
       "    <tr>\n",
       "      <th rowspan=\"3\" valign=\"top\">East</th>\n",
       "      <th>Furniture</th>\n",
       "      <td>-5285.308659</td>\n",
       "    </tr>\n",
       "    <tr>\n",
       "      <th>Office Supplies</th>\n",
       "      <td>138124.080500</td>\n",
       "    </tr>\n",
       "    <tr>\n",
       "      <th>Technology</th>\n",
       "      <td>185013.272500</td>\n",
       "    </tr>\n",
       "    <tr>\n",
       "      <th rowspan=\"3\" valign=\"top\">South</th>\n",
       "      <th>Furniture</th>\n",
       "      <td>41339.010000</td>\n",
       "    </tr>\n",
       "    <tr>\n",
       "      <th>Office Supplies</th>\n",
       "      <td>113316.691500</td>\n",
       "    </tr>\n",
       "    <tr>\n",
       "      <th>Technology</th>\n",
       "      <td>267851.410100</td>\n",
       "    </tr>\n",
       "    <tr>\n",
       "      <th rowspan=\"3\" valign=\"top\">West</th>\n",
       "      <th>Furniture</th>\n",
       "      <td>48936.810000</td>\n",
       "    </tr>\n",
       "    <tr>\n",
       "      <th>Office Supplies</th>\n",
       "      <td>103761.584000</td>\n",
       "    </tr>\n",
       "    <tr>\n",
       "      <th>Technology</th>\n",
       "      <td>146819.166300</td>\n",
       "    </tr>\n",
       "  </tbody>\n",
       "</table>\n",
       "</div>"
      ],
      "text/plain": [
       "                                 Profit\n",
       "Region  Product Category               \n",
       "Central Furniture          32442.474940\n",
       "        Office Supplies   162819.102000\n",
       "        Technology        286629.666400\n",
       "East    Furniture          -5285.308659\n",
       "        Office Supplies   138124.080500\n",
       "        Technology        185013.272500\n",
       "South   Furniture          41339.010000\n",
       "        Office Supplies   113316.691500\n",
       "        Technology        267851.410100\n",
       "West    Furniture          48936.810000\n",
       "        Office Supplies   103761.584000\n",
       "        Technology        146819.166300"
      ]
     },
     "execution_count": 113,
     "metadata": {},
     "output_type": "execute_result"
    }
   ],
   "source": [
    "#Compare profits per category amongst the different regions.\n",
    "regions = Sales['Region'].unique()\n"
   ]
  },
  {
   "cell_type": "code",
   "execution_count": 126,
   "metadata": {},
   "outputs": [
    {
     "data": {
      "text/plain": [
       "Region\n",
       "Central    32463\n",
       "East       -5241\n",
       "South      41334\n",
       "West       48955\n",
       "Name: Profit, dtype: int32"
      ]
     },
     "execution_count": 126,
     "metadata": {},
     "output_type": "execute_result"
    }
   ],
   "source": [
    "Furniture = Sales[Sales['Product Category'] == 'Furniture']\n",
    "y1 = Furniture['Profit'].astype(int).groupby(Furniture['Region']).sum()\n",
    "y1"
   ]
  },
  {
   "cell_type": "code",
   "execution_count": 127,
   "metadata": {},
   "outputs": [
    {
     "data": {
      "text/plain": [
       "Region\n",
       "Central    162853\n",
       "East       138154\n",
       "South      113327\n",
       "West       103818\n",
       "Name: Profit, dtype: int32"
      ]
     },
     "execution_count": 127,
     "metadata": {},
     "output_type": "execute_result"
    }
   ],
   "source": [
    "Office_Supplies = Sales[Sales['Product Category'] == 'Office Supplies']\n",
    "y2 = Office_Supplies['Profit'].astype(int).groupby(Office_Supplies['Region']).sum()\n",
    "y2"
   ]
  },
  {
   "cell_type": "code",
   "execution_count": 128,
   "metadata": {},
   "outputs": [
    {
     "data": {
      "text/plain": [
       "Region\n",
       "Central    286563\n",
       "East       184996\n",
       "South      267827\n",
       "West       146774\n",
       "Name: Profit, dtype: int32"
      ]
     },
     "execution_count": 128,
     "metadata": {},
     "output_type": "execute_result"
    }
   ],
   "source": [
    "Technology = Sales[Sales['Product Category'] == 'Technology']\n",
    "y3 = Technology['Profit'].astype(int).groupby(Technology['Region']).sum()\n",
    "y3"
   ]
  },
  {
   "cell_type": "code",
   "execution_count": 135,
   "metadata": {},
   "outputs": [
    {
     "data": {
      "text/plain": [
       "<matplotlib.legend.Legend at 0x1f8b884dba8>"
      ]
     },
     "execution_count": 135,
     "metadata": {},
     "output_type": "execute_result"
    },
    {
     "data": {
      "image/png": "[encoded data removed]",
      "text/plain": [
       "<Figure size 720x360 with 1 Axes>"
      ]
     },
     "metadata": {
      "needs_background": "light"
     },
     "output_type": "display_data"
    }
   ],
   "source": [
    "bar_width=0.3\n",
    "plt.subplots(figsize= (10, 5))\n",
    "plt.bar(x=range(len(regions)), height = y1, label=\"Furniture\", width=bar_width)\n",
    "plt.bar(x=np.arange(len(regions))+bar_width,height = y2, label = \"Office Supplies\", width=bar_width)\n",
    "plt.bar(x=np.arange(len(regions))+bar_width+bar_width,height = y3, label = \"Technology\", width=bar_width)\n",
    "for x, y in enumerate(y1):\n",
    "    plt.text(x, y, '%s' % y, ha='center', va='bottom')\n",
    "for x, y in enumerate(y2):\n",
    "    plt.text(x+bar_width, y, '%s' % y, ha='center', va='bottom')\n",
    "for x, y in enumerate(y3):\n",
    "    plt.text(x+bar_width+bar_width, y, '%s' % y, ha='center', va='bottom')\n",
    "\n",
    "plt.title(\"Profits per category amongst the different regions\")   \n",
    "plt.ylabel(\"Profits\")\n",
    "plt.xticks(np.arange(len(regions))+bar_width/2, regions)\n",
    "plt.xlabel(\"Regions\")\n",
    "plt.legend()"
   ]
  },
  {
   "cell_type": "code",
   "execution_count": null,
   "metadata": {},
   "outputs": [],
   "source": []
  }
 ],
 "metadata": {
  "kernelspec": {
   "display_name": "Python 3",
   "language": "python",
   "name": "python3"
  },
  "language_info": {
   "codemirror_mode": {
    "name": "ipython",
    "version": 3
   },
   "file_extension": ".py",
   "mimetype": "text/x-python",
   "name": "python",
   "nbconvert_exporter": "python",
   "pygments_lexer": "ipython3",
   "version": "3.7.3"
  }
 },
 "nbformat": 4,
 "nbformat_minor": 2
}
