{
 "cells": [
  {
   "cell_type": "code",
   "execution_count": 1,
   "metadata": {},
   "outputs": [],
   "source": [
    "import pandas as pd\n",
    "import numpy as np\n",
    "import re\n",
    "from datetime import datetime\n",
    "from sklearn import preprocessing\n",
    "import matplotlib.pyplot as plt\n",
    "import sklearn\n",
    "from sklearn import model_selection\n",
    "from sklearn.linear_model import LinearRegression\n",
    "from sklearn.svm import SVC\n",
    "from sklearn.model_selection import cross_val_score\n",
    "from sklearn.ensemble import RandomForestRegressor\n",
    "from sklearn.model_selection import train_test_split\n",
    "from sklearn.ensemble import GradientBoostingRegressor\n",
    "import seaborn as sns\n",
    "\n",
    "%matplotlib inline"
   ]
  },
  {
   "cell_type": "code",
   "execution_count": 2,
   "metadata": {},
   "outputs": [],
   "source": [
    "datas = pd.read_csv('sold_info.csv')\n",
    "\n",
    "\n",
    "#split data\n",
    "datas['postCode'] = datas['address'].map(lambda x: ' '.join(x.split(' ')[-2:]))\n",
    "datas['houseType'] = datas['soldType'].map(lambda x: x.split(',')[0])\n",
    "datas['residential'] = datas['soldType'].map(lambda x: x.split(',')[2])\n",
    "datas['duration'] = datas['soldType'].map(lambda x: x.split(',')[1])"
   ]
  },
  {
   "cell_type": "code",
   "execution_count": 3,
   "metadata": {},
   "outputs": [],
   "source": [
    "datas['bedrooms'] = datas['bedrooms'].str.extract('(\\d+)')\n",
    "\n"
   ]
  },
  {
   "cell_type": "code",
   "execution_count": 4,
   "metadata": {},
   "outputs": [],
   "source": [
    "datas['price'] = datas['price'].str.extract('([\\d,]+)')"
   ]
  },
  {
   "cell_type": "code",
   "execution_count": 5,
   "metadata": {},
   "outputs": [],
   "source": [
    "datas['price'] = datas['price'].map(lambda x: ''.join(x.split(',')))"
   ]
  },
  {
   "cell_type": "code",
   "execution_count": 6,
   "metadata": {},
   "outputs": [],
   "source": [
    "datas['soldDate'] = datas['soldDate'].map(lambda x: datetime.strptime(x, '%d %b %Y'))"
   ]
  },
  {
   "cell_type": "code",
   "execution_count": 7,
   "metadata": {},
   "outputs": [],
   "source": [
    "df1 = datas.drop(['soldType'], axis=1)\n",
    "#drop null values\n",
    "df = pd.DataFrame(df1.dropna(subset=['bedrooms']))"
   ]
  },
  {
   "cell_type": "code",
   "execution_count": 8,
   "metadata": {},
   "outputs": [
    {
     "data": {
      "text/html": [
       "<div>\n",
       "<style scoped>\n",
       "    .dataframe tbody tr th:only-of-type {\n",
       "        vertical-align: middle;\n",
       "    }\n",
       "\n",
       "    .dataframe tbody tr th {\n",
       "        vertical-align: top;\n",
       "    }\n",
       "\n",
       "    .dataframe thead th {\n",
       "        text-align: right;\n",
       "    }\n",
       "</style>\n",
       "<table border=\"1\" class=\"dataframe\">\n",
       "  <thead>\n",
       "    <tr style=\"text-align: right;\">\n",
       "      <th></th>\n",
       "      <th>Unnamed: 0</th>\n",
       "      <th>address</th>\n",
       "      <th>bedrooms</th>\n",
       "      <th>city</th>\n",
       "      <th>price</th>\n",
       "      <th>soldDate</th>\n",
       "      <th>postCode</th>\n",
       "      <th>houseType</th>\n",
       "      <th>residential</th>\n",
       "      <th>duration</th>\n",
       "    </tr>\n",
       "  </thead>\n",
       "  <tbody>\n",
       "    <tr>\n",
       "      <th>0</th>\n",
       "      <td>0</td>\n",
       "      <td>1, Old Newbridge Hill, Bath, Bath And North Ea...</td>\n",
       "      <td>4</td>\n",
       "      <td>Bath</td>\n",
       "      <td>487000</td>\n",
       "      <td>2019-04-23</td>\n",
       "      <td>BA1 3LX</td>\n",
       "      <td>Semi-Detached</td>\n",
       "      <td>Residential</td>\n",
       "      <td>Freehold</td>\n",
       "    </tr>\n",
       "    <tr>\n",
       "      <th>3</th>\n",
       "      <td>3</td>\n",
       "      <td>Orchard Leigh, Eden Villas, Bath, Bath And Nor...</td>\n",
       "      <td>4</td>\n",
       "      <td>Bath</td>\n",
       "      <td>483000</td>\n",
       "      <td>2019-04-17</td>\n",
       "      <td>BA1 6SH</td>\n",
       "      <td>Semi-Detached</td>\n",
       "      <td>Residential</td>\n",
       "      <td>Freehold</td>\n",
       "    </tr>\n",
       "    <tr>\n",
       "      <th>4</th>\n",
       "      <td>4</td>\n",
       "      <td>5, Parry Close, Bath, Bath And North East Some...</td>\n",
       "      <td>2</td>\n",
       "      <td>Bath</td>\n",
       "      <td>285000</td>\n",
       "      <td>2019-04-16</td>\n",
       "      <td>BA2 1JR</td>\n",
       "      <td>Semi-Detached</td>\n",
       "      <td>Residential</td>\n",
       "      <td>Freehold</td>\n",
       "    </tr>\n",
       "    <tr>\n",
       "      <th>5</th>\n",
       "      <td>5</td>\n",
       "      <td>10, Freeview Road, Bath, Bath And North East S...</td>\n",
       "      <td>2</td>\n",
       "      <td>Bath</td>\n",
       "      <td>250000</td>\n",
       "      <td>2019-04-15</td>\n",
       "      <td>BA2 1DR</td>\n",
       "      <td>Semi-Detached</td>\n",
       "      <td>Residential</td>\n",
       "      <td>Freehold</td>\n",
       "    </tr>\n",
       "    <tr>\n",
       "      <th>6</th>\n",
       "      <td>6</td>\n",
       "      <td>18, Vernham Grove, Bath, Bath And North East S...</td>\n",
       "      <td>3</td>\n",
       "      <td>Bath</td>\n",
       "      <td>267000</td>\n",
       "      <td>2019-04-15</td>\n",
       "      <td>BA2 2TB</td>\n",
       "      <td>Terraced</td>\n",
       "      <td>Residential</td>\n",
       "      <td>Freehold</td>\n",
       "    </tr>\n",
       "  </tbody>\n",
       "</table>\n",
       "</div>"
      ],
      "text/plain": [
       "   Unnamed: 0                                            address bedrooms  \\\n",
       "0           0  1, Old Newbridge Hill, Bath, Bath And North Ea...        4   \n",
       "3           3  Orchard Leigh, Eden Villas, Bath, Bath And Nor...        4   \n",
       "4           4  5, Parry Close, Bath, Bath And North East Some...        2   \n",
       "5           5  10, Freeview Road, Bath, Bath And North East S...        2   \n",
       "6           6  18, Vernham Grove, Bath, Bath And North East S...        3   \n",
       "\n",
       "   city   price   soldDate postCode      houseType   residential   duration  \n",
       "0  Bath  487000 2019-04-23  BA1 3LX  Semi-Detached   Residential   Freehold  \n",
       "3  Bath  483000 2019-04-17  BA1 6SH  Semi-Detached   Residential   Freehold  \n",
       "4  Bath  285000 2019-04-16  BA2 1JR  Semi-Detached   Residential   Freehold  \n",
       "5  Bath  250000 2019-04-15  BA2 1DR  Semi-Detached   Residential   Freehold  \n",
       "6  Bath  267000 2019-04-15  BA2 2TB       Terraced   Residential   Freehold  "
      ]
     },
     "execution_count": 8,
     "metadata": {},
     "output_type": "execute_result"
    }
   ],
   "source": [
    "df.head()"
   ]
  },
  {
   "cell_type": "code",
   "execution_count": 9,
   "metadata": {},
   "outputs": [
    {
     "data": {
      "text/plain": [
       "Text(0.5, 1.0, 'property sales trend')"
      ]
     },
     "execution_count": 9,
     "metadata": {},
     "output_type": "execute_result"
    },
    {
     "data": {
      "image/png": "[encoded data removed]",
      "text/plain": [
       "<Figure size 720x360 with 1 Axes>"
      ]
     },
     "metadata": {
      "needs_background": "light"
     },
     "output_type": "display_data"
    }
   ],
   "source": [
    "#analyze data:\n",
    "##Let's check the average property sales trend\n",
    "years = df['soldDate'].apply(lambda x: x.year).unique()\n",
    "years\n",
    "# df['price'] = df['price'].astype(int)\n",
    "df.loc[:, ['price']] = df['price'].astype(int)\n",
    "price = df['price'].groupby(df['soldDate'].apply(lambda x: x.year)).mean()\n",
    "plt.subplots(figsize= (10, 5))\n",
    "\n",
    "plt.plot(years, price)\n",
    "plt.xticks(years)\n",
    "plt.title('property sales trend')\n",
    "##Conclusion:\n",
    "#------looks strange and seems no help-----"
   ]
  },
  {
   "cell_type": "code",
   "execution_count": 10,
   "metadata": {},
   "outputs": [
    {
     "data": {
      "text/plain": [
       "soldDate\n",
       "2006      15\n",
       "2007      60\n",
       "2008      41\n",
       "2009     106\n",
       "2010     152\n",
       "2011     129\n",
       "2012     153\n",
       "2013     311\n",
       "2014     681\n",
       "2015    1038\n",
       "2016    1760\n",
       "2017    2751\n",
       "2018    5360\n",
       "2019    1547\n",
       "Name: Unnamed: 0, dtype: int64"
      ]
     },
     "execution_count": 10,
     "metadata": {},
     "output_type": "execute_result"
    }
   ],
   "source": [
    "#check the sold house qty by year\n",
    "sold_qty = df['Unnamed: 0'].groupby(df['soldDate'].apply(lambda x: x.year)).count()\n",
    "sold_qty\n",
    "\n",
    "#conclution: increasing"
   ]
  },
  {
   "cell_type": "code",
   "execution_count": 11,
   "metadata": {},
   "outputs": [],
   "source": [
    "#checked the offical property price during last 10 years, no big changes, so I decide use data from 2011.\n",
    "df_from_2011 = df[(df['soldDate']>='2011-01-01')]"
   ]
  },
  {
   "cell_type": "code",
   "execution_count": null,
   "metadata": {},
   "outputs": [],
   "source": []
  },
  {
   "cell_type": "code",
   "execution_count": 12,
   "metadata": {},
   "outputs": [
    {
     "data": {
      "text/html": [
       "<div>\n",
       "<style scoped>\n",
       "    .dataframe tbody tr th:only-of-type {\n",
       "        vertical-align: middle;\n",
       "    }\n",
       "\n",
       "    .dataframe tbody tr th {\n",
       "        vertical-align: top;\n",
       "    }\n",
       "\n",
       "    .dataframe thead th {\n",
       "        text-align: right;\n",
       "    }\n",
       "</style>\n",
       "<table border=\"1\" class=\"dataframe\">\n",
       "  <thead>\n",
       "    <tr style=\"text-align: right;\">\n",
       "      <th></th>\n",
       "      <th>id</th>\n",
       "      <th>postcode</th>\n",
       "      <th>latitude</th>\n",
       "      <th>longitude</th>\n",
       "    </tr>\n",
       "  </thead>\n",
       "  <tbody>\n",
       "    <tr>\n",
       "      <th>0</th>\n",
       "      <td>1</td>\n",
       "      <td>AB10 1XG</td>\n",
       "      <td>57.144165</td>\n",
       "      <td>-2.114848</td>\n",
       "    </tr>\n",
       "    <tr>\n",
       "      <th>1</th>\n",
       "      <td>2</td>\n",
       "      <td>AB10 6RN</td>\n",
       "      <td>57.137880</td>\n",
       "      <td>-2.121487</td>\n",
       "    </tr>\n",
       "    <tr>\n",
       "      <th>2</th>\n",
       "      <td>3</td>\n",
       "      <td>AB10 7JB</td>\n",
       "      <td>57.124274</td>\n",
       "      <td>-2.127190</td>\n",
       "    </tr>\n",
       "    <tr>\n",
       "      <th>3</th>\n",
       "      <td>4</td>\n",
       "      <td>AB11 5QN</td>\n",
       "      <td>57.142701</td>\n",
       "      <td>-2.093295</td>\n",
       "    </tr>\n",
       "    <tr>\n",
       "      <th>4</th>\n",
       "      <td>5</td>\n",
       "      <td>AB11 6UL</td>\n",
       "      <td>57.137547</td>\n",
       "      <td>-2.112233</td>\n",
       "    </tr>\n",
       "  </tbody>\n",
       "</table>\n",
       "</div>"
      ],
      "text/plain": [
       "   id  postcode   latitude  longitude\n",
       "0   1  AB10 1XG  57.144165  -2.114848\n",
       "1   2  AB10 6RN  57.137880  -2.121487\n",
       "2   3  AB10 7JB  57.124274  -2.127190\n",
       "3   4  AB11 5QN  57.142701  -2.093295\n",
       "4   5  AB11 6UL  57.137547  -2.112233"
      ]
     },
     "execution_count": 12,
     "metadata": {},
     "output_type": "execute_result"
    }
   ],
   "source": [
    "#import postcode_lon_lat data\n",
    "postcode_lon_lat = pd.read_csv('ukpostcodes.csv')\n",
    "postcode_lon_lat.head()"
   ]
  },
  {
   "cell_type": "code",
   "execution_count": 13,
   "metadata": {},
   "outputs": [],
   "source": [
    "#merge the lon and lat data on postcode\n",
    "merge_df = pd.merge(df_from_2011, postcode_lon_lat,how = 'left', left_on = 'postCode',right_on =  'postcode')"
   ]
  },
  {
   "cell_type": "code",
   "execution_count": 14,
   "metadata": {},
   "outputs": [
    {
     "data": {
      "text/html": [
       "<div>\n",
       "<style scoped>\n",
       "    .dataframe tbody tr th:only-of-type {\n",
       "        vertical-align: middle;\n",
       "    }\n",
       "\n",
       "    .dataframe tbody tr th {\n",
       "        vertical-align: top;\n",
       "    }\n",
       "\n",
       "    .dataframe thead th {\n",
       "        text-align: right;\n",
       "    }\n",
       "</style>\n",
       "<table border=\"1\" class=\"dataframe\">\n",
       "  <thead>\n",
       "    <tr style=\"text-align: right;\">\n",
       "      <th></th>\n",
       "      <th>Unnamed: 0</th>\n",
       "      <th>address</th>\n",
       "      <th>bedrooms</th>\n",
       "      <th>city</th>\n",
       "      <th>price</th>\n",
       "      <th>soldDate</th>\n",
       "      <th>postCode</th>\n",
       "      <th>houseType</th>\n",
       "      <th>residential</th>\n",
       "      <th>duration</th>\n",
       "      <th>id</th>\n",
       "      <th>postcode</th>\n",
       "      <th>latitude</th>\n",
       "      <th>longitude</th>\n",
       "    </tr>\n",
       "  </thead>\n",
       "  <tbody>\n",
       "    <tr>\n",
       "      <th>0</th>\n",
       "      <td>0</td>\n",
       "      <td>1, Old Newbridge Hill, Bath, Bath And North Ea...</td>\n",
       "      <td>4</td>\n",
       "      <td>Bath</td>\n",
       "      <td>487000</td>\n",
       "      <td>2019-04-23</td>\n",
       "      <td>BA1 3LX</td>\n",
       "      <td>Semi-Detached</td>\n",
       "      <td>Residential</td>\n",
       "      <td>Freehold</td>\n",
       "      <td>1652513</td>\n",
       "      <td>BA1 3LX</td>\n",
       "      <td>51.389446</td>\n",
       "      <td>-2.401029</td>\n",
       "    </tr>\n",
       "    <tr>\n",
       "      <th>1</th>\n",
       "      <td>3</td>\n",
       "      <td>Orchard Leigh, Eden Villas, Bath, Bath And Nor...</td>\n",
       "      <td>4</td>\n",
       "      <td>Bath</td>\n",
       "      <td>483000</td>\n",
       "      <td>2019-04-17</td>\n",
       "      <td>BA1 6SH</td>\n",
       "      <td>Semi-Detached</td>\n",
       "      <td>Residential</td>\n",
       "      <td>Freehold</td>\n",
       "      <td>1651917</td>\n",
       "      <td>BA1 6SH</td>\n",
       "      <td>51.398812</td>\n",
       "      <td>-2.345813</td>\n",
       "    </tr>\n",
       "    <tr>\n",
       "      <th>2</th>\n",
       "      <td>4</td>\n",
       "      <td>5, Parry Close, Bath, Bath And North East Some...</td>\n",
       "      <td>2</td>\n",
       "      <td>Bath</td>\n",
       "      <td>285000</td>\n",
       "      <td>2019-04-16</td>\n",
       "      <td>BA2 1JR</td>\n",
       "      <td>Semi-Detached</td>\n",
       "      <td>Residential</td>\n",
       "      <td>Freehold</td>\n",
       "      <td>1645731</td>\n",
       "      <td>BA2 1JR</td>\n",
       "      <td>51.373936</td>\n",
       "      <td>-2.390162</td>\n",
       "    </tr>\n",
       "    <tr>\n",
       "      <th>3</th>\n",
       "      <td>5</td>\n",
       "      <td>10, Freeview Road, Bath, Bath And North East S...</td>\n",
       "      <td>2</td>\n",
       "      <td>Bath</td>\n",
       "      <td>250000</td>\n",
       "      <td>2019-04-15</td>\n",
       "      <td>BA2 1DR</td>\n",
       "      <td>Semi-Detached</td>\n",
       "      <td>Residential</td>\n",
       "      <td>Freehold</td>\n",
       "      <td>1646114</td>\n",
       "      <td>BA2 1DR</td>\n",
       "      <td>51.379450</td>\n",
       "      <td>-2.397522</td>\n",
       "    </tr>\n",
       "    <tr>\n",
       "      <th>4</th>\n",
       "      <td>6</td>\n",
       "      <td>18, Vernham Grove, Bath, Bath And North East S...</td>\n",
       "      <td>3</td>\n",
       "      <td>Bath</td>\n",
       "      <td>267000</td>\n",
       "      <td>2019-04-15</td>\n",
       "      <td>BA2 2TB</td>\n",
       "      <td>Terraced</td>\n",
       "      <td>Residential</td>\n",
       "      <td>Freehold</td>\n",
       "      <td>1645682</td>\n",
       "      <td>BA2 2TB</td>\n",
       "      <td>51.358799</td>\n",
       "      <td>-2.383168</td>\n",
       "    </tr>\n",
       "  </tbody>\n",
       "</table>\n",
       "</div>"
      ],
      "text/plain": [
       "   Unnamed: 0                                            address bedrooms  \\\n",
       "0           0  1, Old Newbridge Hill, Bath, Bath And North Ea...        4   \n",
       "1           3  Orchard Leigh, Eden Villas, Bath, Bath And Nor...        4   \n",
       "2           4  5, Parry Close, Bath, Bath And North East Some...        2   \n",
       "3           5  10, Freeview Road, Bath, Bath And North East S...        2   \n",
       "4           6  18, Vernham Grove, Bath, Bath And North East S...        3   \n",
       "\n",
       "   city   price   soldDate postCode      houseType   residential   duration  \\\n",
       "0  Bath  487000 2019-04-23  BA1 3LX  Semi-Detached   Residential   Freehold   \n",
       "1  Bath  483000 2019-04-17  BA1 6SH  Semi-Detached   Residential   Freehold   \n",
       "2  Bath  285000 2019-04-16  BA2 1JR  Semi-Detached   Residential   Freehold   \n",
       "3  Bath  250000 2019-04-15  BA2 1DR  Semi-Detached   Residential   Freehold   \n",
       "4  Bath  267000 2019-04-15  BA2 2TB       Terraced   Residential   Freehold   \n",
       "\n",
       "        id postcode   latitude  longitude  \n",
       "0  1652513  BA1 3LX  51.389446  -2.401029  \n",
       "1  1651917  BA1 6SH  51.398812  -2.345813  \n",
       "2  1645731  BA2 1JR  51.373936  -2.390162  \n",
       "3  1646114  BA2 1DR  51.379450  -2.397522  \n",
       "4  1645682  BA2 2TB  51.358799  -2.383168  "
      ]
     },
     "execution_count": 14,
     "metadata": {},
     "output_type": "execute_result"
    }
   ],
   "source": [
    "merge_df.head()"
   ]
  },
  {
   "cell_type": "code",
   "execution_count": 15,
   "metadata": {},
   "outputs": [
    {
     "data": {
      "text/plain": [
       "Text(0.5, 1.0, 'price vs bedrooms')"
      ]
     },
     "execution_count": 15,
     "metadata": {},
     "output_type": "execute_result"
    },
    {
     "data": {
      "image/png": "[encoded data removed]",
      "text/plain": [
       "<Figure size 1440x360 with 1 Axes>"
      ]
     },
     "metadata": {
      "needs_background": "light"
     },
     "output_type": "display_data"
    }
   ],
   "source": [
    "plt.figure(figsize=(20,5))\n",
    "plt.scatter(merge_df['city'], merge_df['price'])\n",
    "plt.title('price vs bedrooms')"
   ]
  },
  {
   "cell_type": "code",
   "execution_count": 16,
   "metadata": {},
   "outputs": [],
   "source": [
    "# merge_df.to_csv('data.csv')"
   ]
  },
  {
   "cell_type": "code",
   "execution_count": 17,
   "metadata": {},
   "outputs": [],
   "source": [
    "df_final = pd.DataFrame(merge_df[['bedrooms', 'price','houseType', 'residential', 'duration', 'latitude', 'longitude']])"
   ]
  },
  {
   "cell_type": "code",
   "execution_count": 18,
   "metadata": {},
   "outputs": [],
   "source": [
    "\n",
    "#transform houseTypes: 'Semi-Detached':0, 'Terraced':1, 'Flat':2, 'Detached':3\n",
    "df_final['houseType'].replace('Semi-Detached', 0, inplace=True)\n",
    "df_final['houseType'].replace('Terraced', 1, inplace=True)\n",
    "df_final['houseType'].replace('Flat', 2, inplace=True)\n",
    "df_final['houseType'].replace('Detached', 3, inplace=True)"
   ]
  },
  {
   "cell_type": "code",
   "execution_count": 19,
   "metadata": {},
   "outputs": [],
   "source": [
    "#transform residential:  Residential\\xa0(New Build):1, ' Residential':0\n",
    "df_final['residential'].unique()\n",
    "df_final['residential'].replace(' Residential', 0, inplace=True)\n",
    "df_final['residential'].replace(' Residential\\xa0(New Build)', 1, inplace=True)"
   ]
  },
  {
   "cell_type": "code",
   "execution_count": 20,
   "metadata": {},
   "outputs": [],
   "source": [
    "#transform duration:' Freehold':0, ' Leasehold':1\n",
    "df_final['duration'].unique()\n",
    "df_final['duration'].replace(' Freehold', 0, inplace=True)\n",
    "df_final['duration'].replace(' Leasehold', 1, inplace=True)\n"
   ]
  },
  {
   "cell_type": "code",
   "execution_count": 21,
   "metadata": {},
   "outputs": [
    {
     "data": {
      "text/plain": [
       "array([0, 1], dtype=int64)"
      ]
     },
     "execution_count": 21,
     "metadata": {},
     "output_type": "execute_result"
    }
   ],
   "source": [
    "df_final['duration'].unique()"
   ]
  },
  {
   "cell_type": "code",
   "execution_count": 68,
   "metadata": {},
   "outputs": [
    {
     "data": {
      "text/html": [
       "<div>\n",
       "<style scoped>\n",
       "    .dataframe tbody tr th:only-of-type {\n",
       "        vertical-align: middle;\n",
       "    }\n",
       "\n",
       "    .dataframe tbody tr th {\n",
       "        vertical-align: top;\n",
       "    }\n",
       "\n",
       "    .dataframe thead th {\n",
       "        text-align: right;\n",
       "    }\n",
       "</style>\n",
       "<table border=\"1\" class=\"dataframe\">\n",
       "  <thead>\n",
       "    <tr style=\"text-align: right;\">\n",
       "      <th></th>\n",
       "      <th>bedrooms</th>\n",
       "      <th>price</th>\n",
       "      <th>houseType</th>\n",
       "      <th>residential</th>\n",
       "      <th>duration</th>\n",
       "      <th>latitude</th>\n",
       "      <th>longitude</th>\n",
       "    </tr>\n",
       "  </thead>\n",
       "  <tbody>\n",
       "    <tr>\n",
       "      <th>0</th>\n",
       "      <td>4</td>\n",
       "      <td>487000</td>\n",
       "      <td>0</td>\n",
       "      <td>0</td>\n",
       "      <td>0</td>\n",
       "      <td>51.389446</td>\n",
       "      <td>-2.401029</td>\n",
       "    </tr>\n",
       "    <tr>\n",
       "      <th>1</th>\n",
       "      <td>4</td>\n",
       "      <td>483000</td>\n",
       "      <td>0</td>\n",
       "      <td>0</td>\n",
       "      <td>0</td>\n",
       "      <td>51.398812</td>\n",
       "      <td>-2.345813</td>\n",
       "    </tr>\n",
       "    <tr>\n",
       "      <th>2</th>\n",
       "      <td>2</td>\n",
       "      <td>285000</td>\n",
       "      <td>0</td>\n",
       "      <td>0</td>\n",
       "      <td>0</td>\n",
       "      <td>51.373936</td>\n",
       "      <td>-2.390162</td>\n",
       "    </tr>\n",
       "    <tr>\n",
       "      <th>3</th>\n",
       "      <td>2</td>\n",
       "      <td>250000</td>\n",
       "      <td>0</td>\n",
       "      <td>0</td>\n",
       "      <td>0</td>\n",
       "      <td>51.379450</td>\n",
       "      <td>-2.397522</td>\n",
       "    </tr>\n",
       "    <tr>\n",
       "      <th>4</th>\n",
       "      <td>3</td>\n",
       "      <td>267000</td>\n",
       "      <td>1</td>\n",
       "      <td>0</td>\n",
       "      <td>0</td>\n",
       "      <td>51.358799</td>\n",
       "      <td>-2.383168</td>\n",
       "    </tr>\n",
       "    <tr>\n",
       "      <th>5</th>\n",
       "      <td>3</td>\n",
       "      <td>252000</td>\n",
       "      <td>0</td>\n",
       "      <td>0</td>\n",
       "      <td>0</td>\n",
       "      <td>51.396581</td>\n",
       "      <td>-2.394206</td>\n",
       "    </tr>\n",
       "    <tr>\n",
       "      <th>6</th>\n",
       "      <td>2</td>\n",
       "      <td>170000</td>\n",
       "      <td>1</td>\n",
       "      <td>0</td>\n",
       "      <td>0</td>\n",
       "      <td>51.358799</td>\n",
       "      <td>-2.383168</td>\n",
       "    </tr>\n",
       "    <tr>\n",
       "      <th>7</th>\n",
       "      <td>3</td>\n",
       "      <td>340000</td>\n",
       "      <td>1</td>\n",
       "      <td>0</td>\n",
       "      <td>1</td>\n",
       "      <td>51.393020</td>\n",
       "      <td>-2.346114</td>\n",
       "    </tr>\n",
       "    <tr>\n",
       "      <th>8</th>\n",
       "      <td>2</td>\n",
       "      <td>301000</td>\n",
       "      <td>1</td>\n",
       "      <td>0</td>\n",
       "      <td>0</td>\n",
       "      <td>51.397892</td>\n",
       "      <td>-2.394793</td>\n",
       "    </tr>\n",
       "    <tr>\n",
       "      <th>9</th>\n",
       "      <td>2</td>\n",
       "      <td>290000</td>\n",
       "      <td>1</td>\n",
       "      <td>0</td>\n",
       "      <td>0</td>\n",
       "      <td>51.380642</td>\n",
       "      <td>-2.385304</td>\n",
       "    </tr>\n",
       "    <tr>\n",
       "      <th>10</th>\n",
       "      <td>1</td>\n",
       "      <td>209000</td>\n",
       "      <td>1</td>\n",
       "      <td>0</td>\n",
       "      <td>0</td>\n",
       "      <td>51.400838</td>\n",
       "      <td>-2.298663</td>\n",
       "    </tr>\n",
       "    <tr>\n",
       "      <th>11</th>\n",
       "      <td>5</td>\n",
       "      <td>1550000</td>\n",
       "      <td>1</td>\n",
       "      <td>0</td>\n",
       "      <td>0</td>\n",
       "      <td>51.384856</td>\n",
       "      <td>-2.363857</td>\n",
       "    </tr>\n",
       "    <tr>\n",
       "      <th>12</th>\n",
       "      <td>3</td>\n",
       "      <td>290000</td>\n",
       "      <td>1</td>\n",
       "      <td>0</td>\n",
       "      <td>0</td>\n",
       "      <td>51.395545</td>\n",
       "      <td>-2.386910</td>\n",
       "    </tr>\n",
       "    <tr>\n",
       "      <th>13</th>\n",
       "      <td>2</td>\n",
       "      <td>595000</td>\n",
       "      <td>0</td>\n",
       "      <td>0</td>\n",
       "      <td>0</td>\n",
       "      <td>51.374321</td>\n",
       "      <td>-2.347927</td>\n",
       "    </tr>\n",
       "    <tr>\n",
       "      <th>14</th>\n",
       "      <td>3</td>\n",
       "      <td>330000</td>\n",
       "      <td>0</td>\n",
       "      <td>0</td>\n",
       "      <td>0</td>\n",
       "      <td>51.371594</td>\n",
       "      <td>-2.396850</td>\n",
       "    </tr>\n",
       "    <tr>\n",
       "      <th>15</th>\n",
       "      <td>3</td>\n",
       "      <td>260000</td>\n",
       "      <td>0</td>\n",
       "      <td>0</td>\n",
       "      <td>0</td>\n",
       "      <td>51.373436</td>\n",
       "      <td>-2.386293</td>\n",
       "    </tr>\n",
       "    <tr>\n",
       "      <th>16</th>\n",
       "      <td>6</td>\n",
       "      <td>850000</td>\n",
       "      <td>1</td>\n",
       "      <td>0</td>\n",
       "      <td>0</td>\n",
       "      <td>51.411670</td>\n",
       "      <td>-2.320316</td>\n",
       "    </tr>\n",
       "    <tr>\n",
       "      <th>17</th>\n",
       "      <td>2</td>\n",
       "      <td>187500</td>\n",
       "      <td>2</td>\n",
       "      <td>0</td>\n",
       "      <td>1</td>\n",
       "      <td>51.396681</td>\n",
       "      <td>-2.391218</td>\n",
       "    </tr>\n",
       "    <tr>\n",
       "      <th>18</th>\n",
       "      <td>2</td>\n",
       "      <td>233000</td>\n",
       "      <td>1</td>\n",
       "      <td>0</td>\n",
       "      <td>0</td>\n",
       "      <td>51.393914</td>\n",
       "      <td>-2.395793</td>\n",
       "    </tr>\n",
       "    <tr>\n",
       "      <th>19</th>\n",
       "      <td>1</td>\n",
       "      <td>427500</td>\n",
       "      <td>1</td>\n",
       "      <td>0</td>\n",
       "      <td>0</td>\n",
       "      <td>51.385597</td>\n",
       "      <td>-2.362512</td>\n",
       "    </tr>\n",
       "    <tr>\n",
       "      <th>20</th>\n",
       "      <td>4</td>\n",
       "      <td>500000</td>\n",
       "      <td>0</td>\n",
       "      <td>0</td>\n",
       "      <td>0</td>\n",
       "      <td>51.393175</td>\n",
       "      <td>-2.399208</td>\n",
       "    </tr>\n",
       "    <tr>\n",
       "      <th>21</th>\n",
       "      <td>3</td>\n",
       "      <td>365500</td>\n",
       "      <td>1</td>\n",
       "      <td>0</td>\n",
       "      <td>0</td>\n",
       "      <td>51.390236</td>\n",
       "      <td>-2.359688</td>\n",
       "    </tr>\n",
       "    <tr>\n",
       "      <th>22</th>\n",
       "      <td>2</td>\n",
       "      <td>315000</td>\n",
       "      <td>1</td>\n",
       "      <td>0</td>\n",
       "      <td>0</td>\n",
       "      <td>51.375165</td>\n",
       "      <td>-2.380173</td>\n",
       "    </tr>\n",
       "    <tr>\n",
       "      <th>23</th>\n",
       "      <td>3</td>\n",
       "      <td>270000</td>\n",
       "      <td>0</td>\n",
       "      <td>0</td>\n",
       "      <td>0</td>\n",
       "      <td>51.371216</td>\n",
       "      <td>-2.391589</td>\n",
       "    </tr>\n",
       "    <tr>\n",
       "      <th>24</th>\n",
       "      <td>1</td>\n",
       "      <td>145000</td>\n",
       "      <td>2</td>\n",
       "      <td>0</td>\n",
       "      <td>1</td>\n",
       "      <td>51.369860</td>\n",
       "      <td>-2.396232</td>\n",
       "    </tr>\n",
       "    <tr>\n",
       "      <th>25</th>\n",
       "      <td>3</td>\n",
       "      <td>289950</td>\n",
       "      <td>1</td>\n",
       "      <td>0</td>\n",
       "      <td>0</td>\n",
       "      <td>51.369181</td>\n",
       "      <td>-2.389719</td>\n",
       "    </tr>\n",
       "    <tr>\n",
       "      <th>26</th>\n",
       "      <td>3</td>\n",
       "      <td>525000</td>\n",
       "      <td>3</td>\n",
       "      <td>0</td>\n",
       "      <td>0</td>\n",
       "      <td>51.391813</td>\n",
       "      <td>-2.331186</td>\n",
       "    </tr>\n",
       "    <tr>\n",
       "      <th>27</th>\n",
       "      <td>3</td>\n",
       "      <td>373000</td>\n",
       "      <td>3</td>\n",
       "      <td>0</td>\n",
       "      <td>0</td>\n",
       "      <td>51.373388</td>\n",
       "      <td>-2.392614</td>\n",
       "    </tr>\n",
       "    <tr>\n",
       "      <th>28</th>\n",
       "      <td>4</td>\n",
       "      <td>417500</td>\n",
       "      <td>3</td>\n",
       "      <td>0</td>\n",
       "      <td>0</td>\n",
       "      <td>51.374372</td>\n",
       "      <td>-2.391487</td>\n",
       "    </tr>\n",
       "    <tr>\n",
       "      <th>29</th>\n",
       "      <td>3</td>\n",
       "      <td>290000</td>\n",
       "      <td>0</td>\n",
       "      <td>0</td>\n",
       "      <td>0</td>\n",
       "      <td>51.352343</td>\n",
       "      <td>-2.377700</td>\n",
       "    </tr>\n",
       "    <tr>\n",
       "      <th>...</th>\n",
       "      <td>...</td>\n",
       "      <td>...</td>\n",
       "      <td>...</td>\n",
       "      <td>...</td>\n",
       "      <td>...</td>\n",
       "      <td>...</td>\n",
       "      <td>...</td>\n",
       "    </tr>\n",
       "    <tr>\n",
       "      <th>13700</th>\n",
       "      <td>1</td>\n",
       "      <td>79000</td>\n",
       "      <td>2</td>\n",
       "      <td>0</td>\n",
       "      <td>1</td>\n",
       "      <td>50.956789</td>\n",
       "      <td>-2.613462</td>\n",
       "    </tr>\n",
       "    <tr>\n",
       "      <th>13701</th>\n",
       "      <td>3</td>\n",
       "      <td>197500</td>\n",
       "      <td>0</td>\n",
       "      <td>0</td>\n",
       "      <td>0</td>\n",
       "      <td>50.933860</td>\n",
       "      <td>-2.646474</td>\n",
       "    </tr>\n",
       "    <tr>\n",
       "      <th>13702</th>\n",
       "      <td>4</td>\n",
       "      <td>123495</td>\n",
       "      <td>0</td>\n",
       "      <td>0</td>\n",
       "      <td>0</td>\n",
       "      <td>50.947210</td>\n",
       "      <td>-2.625720</td>\n",
       "    </tr>\n",
       "    <tr>\n",
       "      <th>13703</th>\n",
       "      <td>3</td>\n",
       "      <td>180000</td>\n",
       "      <td>0</td>\n",
       "      <td>0</td>\n",
       "      <td>0</td>\n",
       "      <td>50.956335</td>\n",
       "      <td>-2.609213</td>\n",
       "    </tr>\n",
       "    <tr>\n",
       "      <th>13704</th>\n",
       "      <td>1</td>\n",
       "      <td>61000</td>\n",
       "      <td>2</td>\n",
       "      <td>0</td>\n",
       "      <td>1</td>\n",
       "      <td>50.938996</td>\n",
       "      <td>-2.636412</td>\n",
       "    </tr>\n",
       "    <tr>\n",
       "      <th>13705</th>\n",
       "      <td>2</td>\n",
       "      <td>155000</td>\n",
       "      <td>1</td>\n",
       "      <td>0</td>\n",
       "      <td>0</td>\n",
       "      <td>50.954933</td>\n",
       "      <td>-2.663438</td>\n",
       "    </tr>\n",
       "    <tr>\n",
       "      <th>13706</th>\n",
       "      <td>4</td>\n",
       "      <td>223000</td>\n",
       "      <td>1</td>\n",
       "      <td>0</td>\n",
       "      <td>0</td>\n",
       "      <td>50.956248</td>\n",
       "      <td>-2.606222</td>\n",
       "    </tr>\n",
       "    <tr>\n",
       "      <th>13707</th>\n",
       "      <td>3</td>\n",
       "      <td>198000</td>\n",
       "      <td>0</td>\n",
       "      <td>0</td>\n",
       "      <td>0</td>\n",
       "      <td>50.957103</td>\n",
       "      <td>-2.620399</td>\n",
       "    </tr>\n",
       "    <tr>\n",
       "      <th>13708</th>\n",
       "      <td>3</td>\n",
       "      <td>130000</td>\n",
       "      <td>1</td>\n",
       "      <td>0</td>\n",
       "      <td>0</td>\n",
       "      <td>50.952738</td>\n",
       "      <td>-2.617736</td>\n",
       "    </tr>\n",
       "    <tr>\n",
       "      <th>13709</th>\n",
       "      <td>3</td>\n",
       "      <td>253000</td>\n",
       "      <td>3</td>\n",
       "      <td>0</td>\n",
       "      <td>0</td>\n",
       "      <td>50.955206</td>\n",
       "      <td>-2.625656</td>\n",
       "    </tr>\n",
       "    <tr>\n",
       "      <th>13710</th>\n",
       "      <td>2</td>\n",
       "      <td>160000</td>\n",
       "      <td>3</td>\n",
       "      <td>0</td>\n",
       "      <td>1</td>\n",
       "      <td>50.946814</td>\n",
       "      <td>-2.644063</td>\n",
       "    </tr>\n",
       "    <tr>\n",
       "      <th>13711</th>\n",
       "      <td>2</td>\n",
       "      <td>147000</td>\n",
       "      <td>0</td>\n",
       "      <td>0</td>\n",
       "      <td>0</td>\n",
       "      <td>50.941482</td>\n",
       "      <td>-2.640545</td>\n",
       "    </tr>\n",
       "    <tr>\n",
       "      <th>13712</th>\n",
       "      <td>3</td>\n",
       "      <td>256500</td>\n",
       "      <td>3</td>\n",
       "      <td>0</td>\n",
       "      <td>0</td>\n",
       "      <td>50.953585</td>\n",
       "      <td>-2.647289</td>\n",
       "    </tr>\n",
       "    <tr>\n",
       "      <th>13713</th>\n",
       "      <td>3</td>\n",
       "      <td>258000</td>\n",
       "      <td>0</td>\n",
       "      <td>0</td>\n",
       "      <td>0</td>\n",
       "      <td>50.943769</td>\n",
       "      <td>-2.656276</td>\n",
       "    </tr>\n",
       "    <tr>\n",
       "      <th>13714</th>\n",
       "      <td>2</td>\n",
       "      <td>105000</td>\n",
       "      <td>0</td>\n",
       "      <td>0</td>\n",
       "      <td>0</td>\n",
       "      <td>50.947895</td>\n",
       "      <td>-2.617046</td>\n",
       "    </tr>\n",
       "    <tr>\n",
       "      <th>13715</th>\n",
       "      <td>4</td>\n",
       "      <td>295000</td>\n",
       "      <td>0</td>\n",
       "      <td>0</td>\n",
       "      <td>0</td>\n",
       "      <td>50.945498</td>\n",
       "      <td>-2.631305</td>\n",
       "    </tr>\n",
       "    <tr>\n",
       "      <th>13716</th>\n",
       "      <td>2</td>\n",
       "      <td>171000</td>\n",
       "      <td>0</td>\n",
       "      <td>0</td>\n",
       "      <td>0</td>\n",
       "      <td>50.947177</td>\n",
       "      <td>-2.668908</td>\n",
       "    </tr>\n",
       "    <tr>\n",
       "      <th>13717</th>\n",
       "      <td>3</td>\n",
       "      <td>177000</td>\n",
       "      <td>0</td>\n",
       "      <td>0</td>\n",
       "      <td>0</td>\n",
       "      <td>50.941113</td>\n",
       "      <td>-2.645578</td>\n",
       "    </tr>\n",
       "    <tr>\n",
       "      <th>13718</th>\n",
       "      <td>3</td>\n",
       "      <td>152000</td>\n",
       "      <td>1</td>\n",
       "      <td>0</td>\n",
       "      <td>0</td>\n",
       "      <td>50.955543</td>\n",
       "      <td>-2.609259</td>\n",
       "    </tr>\n",
       "    <tr>\n",
       "      <th>13719</th>\n",
       "      <td>2</td>\n",
       "      <td>206000</td>\n",
       "      <td>3</td>\n",
       "      <td>0</td>\n",
       "      <td>0</td>\n",
       "      <td>50.953620</td>\n",
       "      <td>-2.653824</td>\n",
       "    </tr>\n",
       "    <tr>\n",
       "      <th>13720</th>\n",
       "      <td>3</td>\n",
       "      <td>142000</td>\n",
       "      <td>1</td>\n",
       "      <td>0</td>\n",
       "      <td>0</td>\n",
       "      <td>50.957886</td>\n",
       "      <td>-2.615142</td>\n",
       "    </tr>\n",
       "    <tr>\n",
       "      <th>13721</th>\n",
       "      <td>2</td>\n",
       "      <td>155000</td>\n",
       "      <td>1</td>\n",
       "      <td>0</td>\n",
       "      <td>0</td>\n",
       "      <td>50.956612</td>\n",
       "      <td>-2.607067</td>\n",
       "    </tr>\n",
       "    <tr>\n",
       "      <th>13722</th>\n",
       "      <td>2</td>\n",
       "      <td>118000</td>\n",
       "      <td>2</td>\n",
       "      <td>0</td>\n",
       "      <td>1</td>\n",
       "      <td>50.956876</td>\n",
       "      <td>-2.613961</td>\n",
       "    </tr>\n",
       "    <tr>\n",
       "      <th>13723</th>\n",
       "      <td>3</td>\n",
       "      <td>215000</td>\n",
       "      <td>0</td>\n",
       "      <td>0</td>\n",
       "      <td>0</td>\n",
       "      <td>50.955616</td>\n",
       "      <td>-2.661910</td>\n",
       "    </tr>\n",
       "    <tr>\n",
       "      <th>13724</th>\n",
       "      <td>1</td>\n",
       "      <td>133000</td>\n",
       "      <td>1</td>\n",
       "      <td>0</td>\n",
       "      <td>0</td>\n",
       "      <td>50.949559</td>\n",
       "      <td>-2.667646</td>\n",
       "    </tr>\n",
       "    <tr>\n",
       "      <th>13725</th>\n",
       "      <td>3</td>\n",
       "      <td>187500</td>\n",
       "      <td>0</td>\n",
       "      <td>0</td>\n",
       "      <td>0</td>\n",
       "      <td>50.954022</td>\n",
       "      <td>-2.651181</td>\n",
       "    </tr>\n",
       "    <tr>\n",
       "      <th>13726</th>\n",
       "      <td>1</td>\n",
       "      <td>110000</td>\n",
       "      <td>2</td>\n",
       "      <td>0</td>\n",
       "      <td>1</td>\n",
       "      <td>50.952964</td>\n",
       "      <td>-2.660235</td>\n",
       "    </tr>\n",
       "    <tr>\n",
       "      <th>13727</th>\n",
       "      <td>5</td>\n",
       "      <td>399950</td>\n",
       "      <td>3</td>\n",
       "      <td>0</td>\n",
       "      <td>0</td>\n",
       "      <td>50.926584</td>\n",
       "      <td>-2.664301</td>\n",
       "    </tr>\n",
       "    <tr>\n",
       "      <th>13728</th>\n",
       "      <td>2</td>\n",
       "      <td>169000</td>\n",
       "      <td>1</td>\n",
       "      <td>0</td>\n",
       "      <td>0</td>\n",
       "      <td>50.948955</td>\n",
       "      <td>-2.661502</td>\n",
       "    </tr>\n",
       "    <tr>\n",
       "      <th>13729</th>\n",
       "      <td>3</td>\n",
       "      <td>245000</td>\n",
       "      <td>3</td>\n",
       "      <td>0</td>\n",
       "      <td>0</td>\n",
       "      <td>50.953005</td>\n",
       "      <td>-2.641757</td>\n",
       "    </tr>\n",
       "  </tbody>\n",
       "</table>\n",
       "<p>13730 rows × 7 columns</p>\n",
       "</div>"
      ],
      "text/plain": [
       "       bedrooms    price  houseType  residential  duration   latitude  \\\n",
       "0             4   487000          0            0         0  51.389446   \n",
       "1             4   483000          0            0         0  51.398812   \n",
       "2             2   285000          0            0         0  51.373936   \n",
       "3             2   250000          0            0         0  51.379450   \n",
       "4             3   267000          1            0         0  51.358799   \n",
       "5             3   252000          0            0         0  51.396581   \n",
       "6             2   170000          1            0         0  51.358799   \n",
       "7             3   340000          1            0         1  51.393020   \n",
       "8             2   301000          1            0         0  51.397892   \n",
       "9             2   290000          1            0         0  51.380642   \n",
       "10            1   209000          1            0         0  51.400838   \n",
       "11            5  1550000          1            0         0  51.384856   \n",
       "12            3   290000          1            0         0  51.395545   \n",
       "13            2   595000          0            0         0  51.374321   \n",
       "14            3   330000          0            0         0  51.371594   \n",
       "15            3   260000          0            0         0  51.373436   \n",
       "16            6   850000          1            0         0  51.411670   \n",
       "17            2   187500          2            0         1  51.396681   \n",
       "18            2   233000          1            0         0  51.393914   \n",
       "19            1   427500          1            0         0  51.385597   \n",
       "20            4   500000          0            0         0  51.393175   \n",
       "21            3   365500          1            0         0  51.390236   \n",
       "22            2   315000          1            0         0  51.375165   \n",
       "23            3   270000          0            0         0  51.371216   \n",
       "24            1   145000          2            0         1  51.369860   \n",
       "25            3   289950          1            0         0  51.369181   \n",
       "26            3   525000          3            0         0  51.391813   \n",
       "27            3   373000          3            0         0  51.373388   \n",
       "28            4   417500          3            0         0  51.374372   \n",
       "29            3   290000          0            0         0  51.352343   \n",
       "...         ...      ...        ...          ...       ...        ...   \n",
       "13700         1    79000          2            0         1  50.956789   \n",
       "13701         3   197500          0            0         0  50.933860   \n",
       "13702         4   123495          0            0         0  50.947210   \n",
       "13703         3   180000          0            0         0  50.956335   \n",
       "13704         1    61000          2            0         1  50.938996   \n",
       "13705         2   155000          1            0         0  50.954933   \n",
       "13706         4   223000          1            0         0  50.956248   \n",
       "13707         3   198000          0            0         0  50.957103   \n",
       "13708         3   130000          1            0         0  50.952738   \n",
       "13709         3   253000          3            0         0  50.955206   \n",
       "13710         2   160000          3            0         1  50.946814   \n",
       "13711         2   147000          0            0         0  50.941482   \n",
       "13712         3   256500          3            0         0  50.953585   \n",
       "13713         3   258000          0            0         0  50.943769   \n",
       "13714         2   105000          0            0         0  50.947895   \n",
       "13715         4   295000          0            0         0  50.945498   \n",
       "13716         2   171000          0            0         0  50.947177   \n",
       "13717         3   177000          0            0         0  50.941113   \n",
       "13718         3   152000          1            0         0  50.955543   \n",
       "13719         2   206000          3            0         0  50.953620   \n",
       "13720         3   142000          1            0         0  50.957886   \n",
       "13721         2   155000          1            0         0  50.956612   \n",
       "13722         2   118000          2            0         1  50.956876   \n",
       "13723         3   215000          0            0         0  50.955616   \n",
       "13724         1   133000          1            0         0  50.949559   \n",
       "13725         3   187500          0            0         0  50.954022   \n",
       "13726         1   110000          2            0         1  50.952964   \n",
       "13727         5   399950          3            0         0  50.926584   \n",
       "13728         2   169000          1            0         0  50.948955   \n",
       "13729         3   245000          3            0         0  50.953005   \n",
       "\n",
       "       longitude  \n",
       "0      -2.401029  \n",
       "1      -2.345813  \n",
       "2      -2.390162  \n",
       "3      -2.397522  \n",
       "4      -2.383168  \n",
       "5      -2.394206  \n",
       "6      -2.383168  \n",
       "7      -2.346114  \n",
       "8      -2.394793  \n",
       "9      -2.385304  \n",
       "10     -2.298663  \n",
       "11     -2.363857  \n",
       "12     -2.386910  \n",
       "13     -2.347927  \n",
       "14     -2.396850  \n",
       "15     -2.386293  \n",
       "16     -2.320316  \n",
       "17     -2.391218  \n",
       "18     -2.395793  \n",
       "19     -2.362512  \n",
       "20     -2.399208  \n",
       "21     -2.359688  \n",
       "22     -2.380173  \n",
       "23     -2.391589  \n",
       "24     -2.396232  \n",
       "25     -2.389719  \n",
       "26     -2.331186  \n",
       "27     -2.392614  \n",
       "28     -2.391487  \n",
       "29     -2.377700  \n",
       "...          ...  \n",
       "13700  -2.613462  \n",
       "13701  -2.646474  \n",
       "13702  -2.625720  \n",
       "13703  -2.609213  \n",
       "13704  -2.636412  \n",
       "13705  -2.663438  \n",
       "13706  -2.606222  \n",
       "13707  -2.620399  \n",
       "13708  -2.617736  \n",
       "13709  -2.625656  \n",
       "13710  -2.644063  \n",
       "13711  -2.640545  \n",
       "13712  -2.647289  \n",
       "13713  -2.656276  \n",
       "13714  -2.617046  \n",
       "13715  -2.631305  \n",
       "13716  -2.668908  \n",
       "13717  -2.645578  \n",
       "13718  -2.609259  \n",
       "13719  -2.653824  \n",
       "13720  -2.615142  \n",
       "13721  -2.607067  \n",
       "13722  -2.613961  \n",
       "13723  -2.661910  \n",
       "13724  -2.667646  \n",
       "13725  -2.651181  \n",
       "13726  -2.660235  \n",
       "13727  -2.664301  \n",
       "13728  -2.661502  \n",
       "13729  -2.641757  \n",
       "\n",
       "[13730 rows x 7 columns]"
      ]
     },
     "execution_count": 68,
     "metadata": {},
     "output_type": "execute_result"
    }
   ],
   "source": [
    "df_final"
   ]
  },
  {
   "cell_type": "code",
   "execution_count": 23,
   "metadata": {},
   "outputs": [],
   "source": [
    "df_final['bedrooms'] = df_final['bedrooms'].astype(int)"
   ]
  },
  {
   "cell_type": "code",
   "execution_count": 24,
   "metadata": {},
   "outputs": [],
   "source": [
    "#export data to csv for future use.\n",
    "df_final.to_csv('df_final.csv')"
   ]
  },
  {
   "cell_type": "code",
   "execution_count": 25,
   "metadata": {},
   "outputs": [
    {
     "data": {
      "text/plain": [
       "<matplotlib.axes._subplots.AxesSubplot at 0x22144aa7eb8>"
      ]
     },
     "execution_count": 25,
     "metadata": {},
     "output_type": "execute_result"
    },
    {
     "data": {
      "image/png": "[encoded data removed]",
      "text/plain": [
       "<Figure size 432x288 with 1 Axes>"
      ]
     },
     "metadata": {
      "needs_background": "light"
     },
     "output_type": "display_data"
    }
   ],
   "source": [
    "df_final['bedrooms'].plot.hist()"
   ]
  },
  {
   "cell_type": "code",
   "execution_count": 26,
   "metadata": {},
   "outputs": [
    {
     "data": {
      "text/plain": [
       "3    6060\n",
       "2    3980\n",
       "4    2375\n",
       "1     697\n",
       "5     460\n",
       "6      82\n",
       "0      52\n",
       "7      18\n",
       "8       5\n",
       "9       1\n",
       "Name: bedrooms, dtype: int64"
      ]
     },
     "execution_count": 26,
     "metadata": {},
     "output_type": "execute_result"
    }
   ],
   "source": [
    "df_final['bedrooms'].value_counts()"
   ]
  },
  {
   "cell_type": "code",
   "execution_count": 27,
   "metadata": {},
   "outputs": [
    {
     "data": {
      "text/plain": [
       "<matplotlib.axes._subplots.AxesSubplot at 0x22144b1e438>"
      ]
     },
     "execution_count": 27,
     "metadata": {},
     "output_type": "execute_result"
    },
    {
     "data": {
      "image/png": "[encoded data removed]",
      "text/plain": [
       "<Figure size 432x288 with 1 Axes>"
      ]
     },
     "metadata": {
      "needs_background": "light"
     },
     "output_type": "display_data"
    }
   ],
   "source": [
    "df_final.groupby(['bedrooms']).agg('min')['price'].plot.bar()"
   ]
  },
  {
   "cell_type": "code",
   "execution_count": 28,
   "metadata": {},
   "outputs": [
    {
     "data": {
      "text/plain": [
       "<matplotlib.axes._subplots.AxesSubplot at 0x22144af6d68>"
      ]
     },
     "execution_count": 28,
     "metadata": {},
     "output_type": "execute_result"
    },
    {
     "data": {
      "image/png": "[encoded data removed]",
      "text/plain": [
       "<Figure size 432x288 with 1 Axes>"
      ]
     },
     "metadata": {
      "needs_background": "light"
     },
     "output_type": "display_data"
    }
   ],
   "source": [
    "df_final.groupby(['bedrooms']).agg('mean')['price'].plot.bar()"
   ]
  },
  {
   "cell_type": "code",
   "execution_count": 29,
   "metadata": {},
   "outputs": [
    {
     "data": {
      "text/plain": [
       "<matplotlib.axes._subplots.AxesSubplot at 0x22144c0d128>"
      ]
     },
     "execution_count": 29,
     "metadata": {},
     "output_type": "execute_result"
    },
    {
     "data": {
      "image/png": "[encoded data removed]",
      "text/plain": [
       "<Figure size 432x288 with 1 Axes>"
      ]
     },
     "metadata": {
      "needs_background": "light"
     },
     "output_type": "display_data"
    }
   ],
   "source": [
    "df_final.groupby(['bedrooms']).agg('max')['price'].plot.bar()"
   ]
  },
  {
   "cell_type": "code",
   "execution_count": 31,
   "metadata": {},
   "outputs": [
    {
     "data": {
      "text/plain": [
       "<function seaborn.utils.despine(fig=None, ax=None, top=True, right=True, left=False, bottom=False, offset=None, trim=False)>"
      ]
     },
     "execution_count": 31,
     "metadata": {},
     "output_type": "execute_result"
    },
    {
     "data": {
      "image/png": "[encoded data removed]",
      "text/plain": [
       "<Figure size 432x432 with 3 Axes>"
      ]
     },
     "metadata": {
      "needs_background": "light"
     },
     "output_type": "display_data"
    }
   ],
   "source": [
    "import seaborn as sns\n",
    "# plt.figure(figsize=(10,10)\n",
    "sns.jointplot(x=df_final.latitude.values, y=df_final.longitude.values)\n",
    "plt.ylabel('Longitude', fontsize=12)\n",
    "plt.xlabel('Latitude', fontsize=12)\n",
    "plt.show\n",
    "sns.despine"
   ]
  },
  {
   "cell_type": "code",
   "execution_count": 32,
   "metadata": {},
   "outputs": [
    {
     "data": {
      "text/plain": [
       "Text(0.5, 1.0, 'price vs bedrooms')"
      ]
     },
     "execution_count": 32,
     "metadata": {},
     "output_type": "execute_result"
    },
    {
     "data": {
      "image/png": "[encoded data removed]",
      "text/plain": [
       "<Figure size 720x720 with 1 Axes>"
      ]
     },
     "metadata": {
      "needs_background": "light"
     },
     "output_type": "display_data"
    }
   ],
   "source": [
    "plt.figure(figsize=(10, 10))\n",
    "plt.scatter(df_final['bedrooms'], df_final['price'])\n",
    "plt.title('price vs bedrooms')"
   ]
  },
  {
   "cell_type": "code",
   "execution_count": 33,
   "metadata": {},
   "outputs": [],
   "source": [
    "trains = df_final[['bedrooms', 'houseType', 'residential', 'duration', 'latitude', 'longitude']]\n",
    "results = df_final['price']"
   ]
  },
  {
   "cell_type": "code",
   "execution_count": 34,
   "metadata": {},
   "outputs": [],
   "source": [
    "def LinearRegression_tain( trains, results):\n",
    "    lr = LinearRegression()\n",
    "    lr.fit(trains, results)\n",
    "    return lr"
   ]
  },
  {
   "cell_type": "code",
   "execution_count": 35,
   "metadata": {},
   "outputs": [],
   "source": [
    "X_train, X_test, y_train, y_test = train_test_split(trains, results, test_size=0.25, random_state=42)"
   ]
  },
  {
   "cell_type": "code",
   "execution_count": 50,
   "metadata": {},
   "outputs": [],
   "source": [
    "LR = LinearRegression_tain(X_train, y_train)\n",
    "prediction_lr = LR.predict(X_test)\n"
   ]
  },
  {
   "cell_type": "code",
   "execution_count": 51,
   "metadata": {},
   "outputs": [
    {
     "data": {
      "text/plain": [
       "Text(0.5, 1.0, 'Prices vs Predicted Prices: LinearRegression')"
      ]
     },
     "execution_count": 51,
     "metadata": {},
     "output_type": "execute_result"
    },
    {
     "data": {
      "image/png": "[encoded data removed]",
      "text/plain": [
       "<Figure size 720x360 with 1 Axes>"
      ]
     },
     "metadata": {
      "needs_background": "light"
     },
     "output_type": "display_data"
    }
   ],
   "source": [
    "#check the difference between predictions and real value:\n",
    "plt.figure(figsize=(10, 5))\n",
    "plt.scatter(y_test, prediction_lr)\n",
    "plt.xlabel(\" Real Prices\")\n",
    "plt.ylabel(\"Predicted prices\")\n",
    "plt.title(\"Prices vs Predicted Prices: LinearRegression\")"
   ]
  },
  {
   "cell_type": "code",
   "execution_count": 42,
   "metadata": {},
   "outputs": [
    {
     "data": {
      "text/plain": [
       "[<matplotlib.lines.Line2D at 0x22145002940>]"
      ]
     },
     "execution_count": 42,
     "metadata": {},
     "output_type": "execute_result"
    },
    {
     "data": {
      "image/png": "[encoded data removed]",
      "text/plain": [
       "<Figure size 432x288 with 1 Axes>"
      ]
     },
     "metadata": {
      "needs_background": "light"
     },
     "output_type": "display_data"
    }
   ],
   "source": [
    "#find best n_estimators for RandomForestRegressor\n",
    "model = RandomForestRegressor(n_jobs=-1)\n",
    "estimators = np.arange(10, 200, 10)\n",
    "scores = []\n",
    "for n in estimators:\n",
    "    model.set_params(n_estimators=n)\n",
    "    model.fit(X_train, y_train)\n",
    "    scores.append(model.score(X_test, y_test))\n",
    "plt.title(\"Effect of n_estimators\")\n",
    "plt.xlabel(\"n_estimator\")\n",
    "plt.ylabel(\"score\")\n",
    "plt.plot(estimators, scores)"
   ]
  },
  {
   "cell_type": "code",
   "execution_count": 39,
   "metadata": {},
   "outputs": [],
   "source": [
    "def RandomForestRegressor_train(x, y):\n",
    "    rfr = RandomForestRegressor()\n",
    "    rfr.set_params(n_estimators = 70)\n",
    "    rfr.fit(x, y)\n",
    "    return rfr"
   ]
  },
  {
   "cell_type": "code",
   "execution_count": 46,
   "metadata": {},
   "outputs": [
    {
     "data": {
      "text/plain": [
       "array([236057.14285714, 324085.71428571, 289532.85714286, ...,\n",
       "       178840.68027211, 453735.71428571, 126821.07142857])"
      ]
     },
     "execution_count": 46,
     "metadata": {},
     "output_type": "execute_result"
    }
   ],
   "source": [
    "#predict using RandomForestRegressor\n",
    "model = RandomForestRegressor_train(X_train, y_train)\n",
    "prediction = model.predict(X_test)\n",
    "prediction"
   ]
  },
  {
   "cell_type": "code",
   "execution_count": 70,
   "metadata": {},
   "outputs": [
    {
     "data": {
      "text/plain": [
       "Text(0.5, 1.0, 'Prices vs Predicted Prices: RandomForestRegressor')"
      ]
     },
     "execution_count": 70,
     "metadata": {},
     "output_type": "execute_result"
    },
    {
     "data": {
      "image/png": "[encoded data removed]",
      "text/plain": [
       "<Figure size 720x360 with 1 Axes>"
      ]
     },
     "metadata": {
      "needs_background": "light"
     },
     "output_type": "display_data"
    }
   ],
   "source": [
    "#Check the difference between prediction and real values:\n",
    "plt.figure(figsize=(10, 5))\n",
    "plt.scatter(y_test, prediction)\n",
    "plt.xlabel(\" Real Prices\")\n",
    "plt.ylabel(\"Predicted prices\")\n",
    "plt.title(\"Prices vs Predicted Prices: RandomForestRegressor\")\n",
    "\n",
    "#conclusion: RandomForestRegressor fits better than LinearRegression, so fininally i choose RandomForestRegressor"
   ]
  },
  {
   "cell_type": "code",
   "execution_count": 48,
   "metadata": {},
   "outputs": [],
   "source": [
    "#MSE\n",
    "def get_MSE(prediction, y_test):\n",
    "    m = 0\n",
    "    n = len(prediction)\n",
    "    for i in range(n):\n",
    "        m += (prediction[i] - y_test.values[i])**2\n",
    "    MSE = m/len(prediction)\n",
    "    return MSE"
   ]
  },
  {
   "cell_type": "code",
   "execution_count": 71,
   "metadata": {},
   "outputs": [],
   "source": [
    "import math"
   ]
  },
  {
   "cell_type": "code",
   "execution_count": 76,
   "metadata": {},
   "outputs": [
    {
     "data": {
      "text/plain": [
       "71807.79560098224"
      ]
     },
     "execution_count": 76,
     "metadata": {},
     "output_type": "execute_result"
    }
   ],
   "source": [
    "#MSE for randomforestregressor\n",
    "NMSE = math.sqrt(get_MSE(prediction, y_test))\n",
    "NMSE"
   ]
  },
  {
   "cell_type": "code",
   "execution_count": 77,
   "metadata": {},
   "outputs": [
    {
     "data": {
      "text/plain": [
       "100734.24207600283"
      ]
     },
     "execution_count": 77,
     "metadata": {},
     "output_type": "execute_result"
    }
   ],
   "source": [
    "#MSE for LinearRegression\n",
    "NMSE = math.sqrt(get_MSE(prediction_lr, y_test))\n",
    "NMSE"
   ]
  },
  {
   "cell_type": "code",
   "execution_count": null,
   "metadata": {},
   "outputs": [],
   "source": []
  }
 ],
 "metadata": {
  "kernelspec": {
   "display_name": "Python 3",
   "language": "python",
   "name": "python3"
  },
  "language_info": {
   "codemirror_mode": {
    "name": "ipython",
    "version": 3
   },
   "file_extension": ".py",
   "mimetype": "text/x-python",
   "name": "python",
   "nbconvert_exporter": "python",
   "pygments_lexer": "ipython3",
   "version": "3.7.3"
  }
 },
 "nbformat": 4,
 "nbformat_minor": 2
}
